{
 "cells": [
  {
   "cell_type": "markdown",
   "metadata": {},
   "source": [
    "### Обзор данных"
   ]
  },
  {
   "cell_type": "code",
   "execution_count": 1,
   "metadata": {},
   "outputs": [],
   "source": [
    "import pandas as pd \n",
    "import matplotlib.pyplot as plt\n"
   ]
  },
  {
   "cell_type": "code",
   "execution_count": 2,
   "metadata": {},
   "outputs": [],
   "source": [
    "data = pd.read_csv('/datasets/real_estate_data.csv', sep = '\\t')\n",
    "\n",
    "pd.options.display.float_format = '{:.2f}'.format \n",
    "#форматирование в таблице, 2 знака после запятой\n"
   ]
  },
  {
   "cell_type": "code",
   "execution_count": 3,
   "metadata": {},
   "outputs": [
    {
     "data": {
      "text/html": [
       "<div>\n",
       "<style scoped>\n",
       "    .dataframe tbody tr th:only-of-type {\n",
       "        vertical-align: middle;\n",
       "    }\n",
       "\n",
       "    .dataframe tbody tr th {\n",
       "        vertical-align: top;\n",
       "    }\n",
       "\n",
       "    .dataframe thead th {\n",
       "        text-align: right;\n",
       "    }\n",
       "</style>\n",
       "<table border=\"1\" class=\"dataframe\">\n",
       "  <thead>\n",
       "    <tr style=\"text-align: right;\">\n",
       "      <th></th>\n",
       "      <th>total_images</th>\n",
       "      <th>last_price</th>\n",
       "      <th>total_area</th>\n",
       "      <th>first_day_exposition</th>\n",
       "      <th>rooms</th>\n",
       "      <th>ceiling_height</th>\n",
       "      <th>floors_total</th>\n",
       "      <th>living_area</th>\n",
       "      <th>floor</th>\n",
       "      <th>is_apartment</th>\n",
       "      <th>...</th>\n",
       "      <th>kitchen_area</th>\n",
       "      <th>balcony</th>\n",
       "      <th>locality_name</th>\n",
       "      <th>airports_nearest</th>\n",
       "      <th>cityCenters_nearest</th>\n",
       "      <th>parks_around3000</th>\n",
       "      <th>parks_nearest</th>\n",
       "      <th>ponds_around3000</th>\n",
       "      <th>ponds_nearest</th>\n",
       "      <th>days_exposition</th>\n",
       "    </tr>\n",
       "  </thead>\n",
       "  <tbody>\n",
       "    <tr>\n",
       "      <th>0</th>\n",
       "      <td>20</td>\n",
       "      <td>13000000.00</td>\n",
       "      <td>108.00</td>\n",
       "      <td>2019-03-07T00:00:00</td>\n",
       "      <td>3</td>\n",
       "      <td>2.70</td>\n",
       "      <td>16.00</td>\n",
       "      <td>51.00</td>\n",
       "      <td>8</td>\n",
       "      <td>NaN</td>\n",
       "      <td>...</td>\n",
       "      <td>25.00</td>\n",
       "      <td>NaN</td>\n",
       "      <td>Санкт-Петербург</td>\n",
       "      <td>18863.00</td>\n",
       "      <td>16028.00</td>\n",
       "      <td>1.00</td>\n",
       "      <td>482.00</td>\n",
       "      <td>2.00</td>\n",
       "      <td>755.00</td>\n",
       "      <td>NaN</td>\n",
       "    </tr>\n",
       "    <tr>\n",
       "      <th>1</th>\n",
       "      <td>7</td>\n",
       "      <td>3350000.00</td>\n",
       "      <td>40.40</td>\n",
       "      <td>2018-12-04T00:00:00</td>\n",
       "      <td>1</td>\n",
       "      <td>NaN</td>\n",
       "      <td>11.00</td>\n",
       "      <td>18.60</td>\n",
       "      <td>1</td>\n",
       "      <td>NaN</td>\n",
       "      <td>...</td>\n",
       "      <td>11.00</td>\n",
       "      <td>2.00</td>\n",
       "      <td>посёлок Шушары</td>\n",
       "      <td>12817.00</td>\n",
       "      <td>18603.00</td>\n",
       "      <td>0.00</td>\n",
       "      <td>NaN</td>\n",
       "      <td>0.00</td>\n",
       "      <td>NaN</td>\n",
       "      <td>81.00</td>\n",
       "    </tr>\n",
       "    <tr>\n",
       "      <th>2</th>\n",
       "      <td>10</td>\n",
       "      <td>5196000.00</td>\n",
       "      <td>56.00</td>\n",
       "      <td>2015-08-20T00:00:00</td>\n",
       "      <td>2</td>\n",
       "      <td>NaN</td>\n",
       "      <td>5.00</td>\n",
       "      <td>34.30</td>\n",
       "      <td>4</td>\n",
       "      <td>NaN</td>\n",
       "      <td>...</td>\n",
       "      <td>8.30</td>\n",
       "      <td>0.00</td>\n",
       "      <td>Санкт-Петербург</td>\n",
       "      <td>21741.00</td>\n",
       "      <td>13933.00</td>\n",
       "      <td>1.00</td>\n",
       "      <td>90.00</td>\n",
       "      <td>2.00</td>\n",
       "      <td>574.00</td>\n",
       "      <td>558.00</td>\n",
       "    </tr>\n",
       "    <tr>\n",
       "      <th>3</th>\n",
       "      <td>0</td>\n",
       "      <td>64900000.00</td>\n",
       "      <td>159.00</td>\n",
       "      <td>2015-07-24T00:00:00</td>\n",
       "      <td>3</td>\n",
       "      <td>NaN</td>\n",
       "      <td>14.00</td>\n",
       "      <td>NaN</td>\n",
       "      <td>9</td>\n",
       "      <td>NaN</td>\n",
       "      <td>...</td>\n",
       "      <td>NaN</td>\n",
       "      <td>0.00</td>\n",
       "      <td>Санкт-Петербург</td>\n",
       "      <td>28098.00</td>\n",
       "      <td>6800.00</td>\n",
       "      <td>2.00</td>\n",
       "      <td>84.00</td>\n",
       "      <td>3.00</td>\n",
       "      <td>234.00</td>\n",
       "      <td>424.00</td>\n",
       "    </tr>\n",
       "    <tr>\n",
       "      <th>4</th>\n",
       "      <td>2</td>\n",
       "      <td>10000000.00</td>\n",
       "      <td>100.00</td>\n",
       "      <td>2018-06-19T00:00:00</td>\n",
       "      <td>2</td>\n",
       "      <td>3.03</td>\n",
       "      <td>14.00</td>\n",
       "      <td>32.00</td>\n",
       "      <td>13</td>\n",
       "      <td>NaN</td>\n",
       "      <td>...</td>\n",
       "      <td>41.00</td>\n",
       "      <td>NaN</td>\n",
       "      <td>Санкт-Петербург</td>\n",
       "      <td>31856.00</td>\n",
       "      <td>8098.00</td>\n",
       "      <td>2.00</td>\n",
       "      <td>112.00</td>\n",
       "      <td>1.00</td>\n",
       "      <td>48.00</td>\n",
       "      <td>121.00</td>\n",
       "    </tr>\n",
       "    <tr>\n",
       "      <th>5</th>\n",
       "      <td>10</td>\n",
       "      <td>2890000.00</td>\n",
       "      <td>30.40</td>\n",
       "      <td>2018-09-10T00:00:00</td>\n",
       "      <td>1</td>\n",
       "      <td>NaN</td>\n",
       "      <td>12.00</td>\n",
       "      <td>14.40</td>\n",
       "      <td>5</td>\n",
       "      <td>NaN</td>\n",
       "      <td>...</td>\n",
       "      <td>9.10</td>\n",
       "      <td>NaN</td>\n",
       "      <td>городской посёлок Янино-1</td>\n",
       "      <td>NaN</td>\n",
       "      <td>NaN</td>\n",
       "      <td>NaN</td>\n",
       "      <td>NaN</td>\n",
       "      <td>NaN</td>\n",
       "      <td>NaN</td>\n",
       "      <td>55.00</td>\n",
       "    </tr>\n",
       "    <tr>\n",
       "      <th>6</th>\n",
       "      <td>6</td>\n",
       "      <td>3700000.00</td>\n",
       "      <td>37.30</td>\n",
       "      <td>2017-11-02T00:00:00</td>\n",
       "      <td>1</td>\n",
       "      <td>NaN</td>\n",
       "      <td>26.00</td>\n",
       "      <td>10.60</td>\n",
       "      <td>6</td>\n",
       "      <td>NaN</td>\n",
       "      <td>...</td>\n",
       "      <td>14.40</td>\n",
       "      <td>1.00</td>\n",
       "      <td>посёлок Парголово</td>\n",
       "      <td>52996.00</td>\n",
       "      <td>19143.00</td>\n",
       "      <td>0.00</td>\n",
       "      <td>NaN</td>\n",
       "      <td>0.00</td>\n",
       "      <td>NaN</td>\n",
       "      <td>155.00</td>\n",
       "    </tr>\n",
       "    <tr>\n",
       "      <th>7</th>\n",
       "      <td>5</td>\n",
       "      <td>7915000.00</td>\n",
       "      <td>71.60</td>\n",
       "      <td>2019-04-18T00:00:00</td>\n",
       "      <td>2</td>\n",
       "      <td>NaN</td>\n",
       "      <td>24.00</td>\n",
       "      <td>NaN</td>\n",
       "      <td>22</td>\n",
       "      <td>NaN</td>\n",
       "      <td>...</td>\n",
       "      <td>18.90</td>\n",
       "      <td>2.00</td>\n",
       "      <td>Санкт-Петербург</td>\n",
       "      <td>23982.00</td>\n",
       "      <td>11634.00</td>\n",
       "      <td>0.00</td>\n",
       "      <td>NaN</td>\n",
       "      <td>0.00</td>\n",
       "      <td>NaN</td>\n",
       "      <td>NaN</td>\n",
       "    </tr>\n",
       "    <tr>\n",
       "      <th>8</th>\n",
       "      <td>20</td>\n",
       "      <td>2900000.00</td>\n",
       "      <td>33.16</td>\n",
       "      <td>2018-05-23T00:00:00</td>\n",
       "      <td>1</td>\n",
       "      <td>NaN</td>\n",
       "      <td>27.00</td>\n",
       "      <td>15.43</td>\n",
       "      <td>26</td>\n",
       "      <td>NaN</td>\n",
       "      <td>...</td>\n",
       "      <td>8.81</td>\n",
       "      <td>NaN</td>\n",
       "      <td>посёлок Мурино</td>\n",
       "      <td>NaN</td>\n",
       "      <td>NaN</td>\n",
       "      <td>NaN</td>\n",
       "      <td>NaN</td>\n",
       "      <td>NaN</td>\n",
       "      <td>NaN</td>\n",
       "      <td>189.00</td>\n",
       "    </tr>\n",
       "    <tr>\n",
       "      <th>9</th>\n",
       "      <td>18</td>\n",
       "      <td>5400000.00</td>\n",
       "      <td>61.00</td>\n",
       "      <td>2017-02-26T00:00:00</td>\n",
       "      <td>3</td>\n",
       "      <td>2.50</td>\n",
       "      <td>9.00</td>\n",
       "      <td>43.60</td>\n",
       "      <td>7</td>\n",
       "      <td>NaN</td>\n",
       "      <td>...</td>\n",
       "      <td>6.50</td>\n",
       "      <td>2.00</td>\n",
       "      <td>Санкт-Петербург</td>\n",
       "      <td>50898.00</td>\n",
       "      <td>15008.00</td>\n",
       "      <td>0.00</td>\n",
       "      <td>NaN</td>\n",
       "      <td>0.00</td>\n",
       "      <td>NaN</td>\n",
       "      <td>289.00</td>\n",
       "    </tr>\n",
       "  </tbody>\n",
       "</table>\n",
       "<p>10 rows × 22 columns</p>\n",
       "</div>"
      ],
      "text/plain": [
       "   total_images  last_price  total_area first_day_exposition  rooms  \\\n",
       "0            20 13000000.00      108.00  2019-03-07T00:00:00      3   \n",
       "1             7  3350000.00       40.40  2018-12-04T00:00:00      1   \n",
       "2            10  5196000.00       56.00  2015-08-20T00:00:00      2   \n",
       "3             0 64900000.00      159.00  2015-07-24T00:00:00      3   \n",
       "4             2 10000000.00      100.00  2018-06-19T00:00:00      2   \n",
       "5            10  2890000.00       30.40  2018-09-10T00:00:00      1   \n",
       "6             6  3700000.00       37.30  2017-11-02T00:00:00      1   \n",
       "7             5  7915000.00       71.60  2019-04-18T00:00:00      2   \n",
       "8            20  2900000.00       33.16  2018-05-23T00:00:00      1   \n",
       "9            18  5400000.00       61.00  2017-02-26T00:00:00      3   \n",
       "\n",
       "   ceiling_height  floors_total  living_area  floor is_apartment  ...  \\\n",
       "0            2.70         16.00        51.00      8          NaN  ...   \n",
       "1             NaN         11.00        18.60      1          NaN  ...   \n",
       "2             NaN          5.00        34.30      4          NaN  ...   \n",
       "3             NaN         14.00          NaN      9          NaN  ...   \n",
       "4            3.03         14.00        32.00     13          NaN  ...   \n",
       "5             NaN         12.00        14.40      5          NaN  ...   \n",
       "6             NaN         26.00        10.60      6          NaN  ...   \n",
       "7             NaN         24.00          NaN     22          NaN  ...   \n",
       "8             NaN         27.00        15.43     26          NaN  ...   \n",
       "9            2.50          9.00        43.60      7          NaN  ...   \n",
       "\n",
       "   kitchen_area  balcony              locality_name  airports_nearest  \\\n",
       "0         25.00      NaN            Санкт-Петербург          18863.00   \n",
       "1         11.00     2.00             посёлок Шушары          12817.00   \n",
       "2          8.30     0.00            Санкт-Петербург          21741.00   \n",
       "3           NaN     0.00            Санкт-Петербург          28098.00   \n",
       "4         41.00      NaN            Санкт-Петербург          31856.00   \n",
       "5          9.10      NaN  городской посёлок Янино-1               NaN   \n",
       "6         14.40     1.00          посёлок Парголово          52996.00   \n",
       "7         18.90     2.00            Санкт-Петербург          23982.00   \n",
       "8          8.81      NaN             посёлок Мурино               NaN   \n",
       "9          6.50     2.00            Санкт-Петербург          50898.00   \n",
       "\n",
       "  cityCenters_nearest  parks_around3000  parks_nearest  ponds_around3000  \\\n",
       "0            16028.00              1.00         482.00              2.00   \n",
       "1            18603.00              0.00            NaN              0.00   \n",
       "2            13933.00              1.00          90.00              2.00   \n",
       "3             6800.00              2.00          84.00              3.00   \n",
       "4             8098.00              2.00         112.00              1.00   \n",
       "5                 NaN               NaN            NaN               NaN   \n",
       "6            19143.00              0.00            NaN              0.00   \n",
       "7            11634.00              0.00            NaN              0.00   \n",
       "8                 NaN               NaN            NaN               NaN   \n",
       "9            15008.00              0.00            NaN              0.00   \n",
       "\n",
       "   ponds_nearest  days_exposition  \n",
       "0         755.00              NaN  \n",
       "1            NaN            81.00  \n",
       "2         574.00           558.00  \n",
       "3         234.00           424.00  \n",
       "4          48.00           121.00  \n",
       "5            NaN            55.00  \n",
       "6            NaN           155.00  \n",
       "7            NaN              NaN  \n",
       "8            NaN           189.00  \n",
       "9            NaN           289.00  \n",
       "\n",
       "[10 rows x 22 columns]"
      ]
     },
     "execution_count": 3,
     "metadata": {},
     "output_type": "execute_result"
    }
   ],
   "source": [
    "data.head(10)"
   ]
  },
  {
   "cell_type": "code",
   "execution_count": 4,
   "metadata": {},
   "outputs": [
    {
     "name": "stdout",
     "output_type": "stream",
     "text": [
      "<class 'pandas.core.frame.DataFrame'>\n",
      "RangeIndex: 23699 entries, 0 to 23698\n",
      "Data columns (total 22 columns):\n",
      " #   Column                Non-Null Count  Dtype  \n",
      "---  ------                --------------  -----  \n",
      " 0   total_images          23699 non-null  int64  \n",
      " 1   last_price            23699 non-null  float64\n",
      " 2   total_area            23699 non-null  float64\n",
      " 3   first_day_exposition  23699 non-null  object \n",
      " 4   rooms                 23699 non-null  int64  \n",
      " 5   ceiling_height        14504 non-null  float64\n",
      " 6   floors_total          23613 non-null  float64\n",
      " 7   living_area           21796 non-null  float64\n",
      " 8   floor                 23699 non-null  int64  \n",
      " 9   is_apartment          2775 non-null   object \n",
      " 10  studio                23699 non-null  bool   \n",
      " 11  open_plan             23699 non-null  bool   \n",
      " 12  kitchen_area          21421 non-null  float64\n",
      " 13  balcony               12180 non-null  float64\n",
      " 14  locality_name         23650 non-null  object \n",
      " 15  airports_nearest      18157 non-null  float64\n",
      " 16  cityCenters_nearest   18180 non-null  float64\n",
      " 17  parks_around3000      18181 non-null  float64\n",
      " 18  parks_nearest         8079 non-null   float64\n",
      " 19  ponds_around3000      18181 non-null  float64\n",
      " 20  ponds_nearest         9110 non-null   float64\n",
      " 21  days_exposition       20518 non-null  float64\n",
      "dtypes: bool(2), float64(14), int64(3), object(3)\n",
      "memory usage: 3.7+ MB\n"
     ]
    }
   ],
   "source": [
    "data.info()"
   ]
  },
  {
   "cell_type": "code",
   "execution_count": 5,
   "metadata": {},
   "outputs": [
    {
     "data": {
      "image/png": "[encoded data removed]",
      "text/plain": [
       "<Figure size 1080x1440 with 20 Axes>"
      ]
     },
     "metadata": {
      "needs_background": "light"
     },
     "output_type": "display_data"
    }
   ],
   "source": [
    "data.hist(figsize=(15, 20))\n",
    "plt.show();\n",
    "\n"
   ]
  },
  {
   "cell_type": "markdown",
   "metadata": {},
   "source": [
    "### Предобработка данных"
   ]
  },
  {
   "cell_type": "code",
   "execution_count": 62,
   "metadata": {},
   "outputs": [
    {
     "data": {
      "text/html": [
       "<style  type=\"text/css\" >\n",
       "#T_dd237_row0_col0,#T_dd237_row1_col0,#T_dd237_row2_col0,#T_dd237_row3_col0,#T_dd237_row4_col0,#T_dd237_row5_col0,#T_dd237_row6_col0,#T_dd237_row7_col0,#T_dd237_row8_col0,#T_dd237_row9_col0,#T_dd237_row10_col0,#T_dd237_row11_col0,#T_dd237_row13_col0,#T_dd237_row14_col0,#T_dd237_row15_col0,#T_dd237_row17_col0,#T_dd237_row18_col0,#T_dd237_row19_col0,#T_dd237_row20_col0,#T_dd237_row22_col0,#T_dd237_row23_col0,#T_dd237_row24_col0,#T_dd237_row25_col0,#T_dd237_row26_col0,#T_dd237_row27_col0{\n",
       "            background-color:  #3b4cc0;\n",
       "            color:  #f1f1f1;\n",
       "        }#T_dd237_row12_col0{\n",
       "            background-color:  #b9d0f9;\n",
       "            color:  #000000;\n",
       "        }#T_dd237_row16_col0{\n",
       "            background-color:  #b40426;\n",
       "            color:  #f1f1f1;\n",
       "        }#T_dd237_row21_col0{\n",
       "            background-color:  #e7d7ce;\n",
       "            color:  #000000;\n",
       "        }</style><table id=\"T_dd237_\" ><thead>    <tr>        <th class=\"blank level0\" ></th>        <th class=\"col_heading level0 col0\" >0</th>    </tr></thead><tbody>\n",
       "                <tr>\n",
       "                        <th id=\"T_dd237_level0_row0\" class=\"row_heading level0 row0\" >total_images</th>\n",
       "                        <td id=\"T_dd237_row0_col0\" class=\"data row0 col0\" >0.000000</td>\n",
       "            </tr>\n",
       "            <tr>\n",
       "                        <th id=\"T_dd237_level0_row1\" class=\"row_heading level0 row1\" >last_price</th>\n",
       "                        <td id=\"T_dd237_row1_col0\" class=\"data row1 col0\" >0.000000</td>\n",
       "            </tr>\n",
       "            <tr>\n",
       "                        <th id=\"T_dd237_level0_row2\" class=\"row_heading level0 row2\" >total_area</th>\n",
       "                        <td id=\"T_dd237_row2_col0\" class=\"data row2 col0\" >0.000000</td>\n",
       "            </tr>\n",
       "            <tr>\n",
       "                        <th id=\"T_dd237_level0_row3\" class=\"row_heading level0 row3\" >first_day_exposition</th>\n",
       "                        <td id=\"T_dd237_row3_col0\" class=\"data row3 col0\" >0.000000</td>\n",
       "            </tr>\n",
       "            <tr>\n",
       "                        <th id=\"T_dd237_level0_row4\" class=\"row_heading level0 row4\" >rooms</th>\n",
       "                        <td id=\"T_dd237_row4_col0\" class=\"data row4 col0\" >0.000000</td>\n",
       "            </tr>\n",
       "            <tr>\n",
       "                        <th id=\"T_dd237_level0_row5\" class=\"row_heading level0 row5\" >ceiling_height</th>\n",
       "                        <td id=\"T_dd237_row5_col0\" class=\"data row5 col0\" >0.000000</td>\n",
       "            </tr>\n",
       "            <tr>\n",
       "                        <th id=\"T_dd237_level0_row6\" class=\"row_heading level0 row6\" >floors_total</th>\n",
       "                        <td id=\"T_dd237_row6_col0\" class=\"data row6 col0\" >0.000000</td>\n",
       "            </tr>\n",
       "            <tr>\n",
       "                        <th id=\"T_dd237_level0_row7\" class=\"row_heading level0 row7\" >living_area</th>\n",
       "                        <td id=\"T_dd237_row7_col0\" class=\"data row7 col0\" >0.000000</td>\n",
       "            </tr>\n",
       "            <tr>\n",
       "                        <th id=\"T_dd237_level0_row8\" class=\"row_heading level0 row8\" >floor</th>\n",
       "                        <td id=\"T_dd237_row8_col0\" class=\"data row8 col0\" >0.000000</td>\n",
       "            </tr>\n",
       "            <tr>\n",
       "                        <th id=\"T_dd237_level0_row9\" class=\"row_heading level0 row9\" >is_apartment</th>\n",
       "                        <td id=\"T_dd237_row9_col0\" class=\"data row9 col0\" >0.000000</td>\n",
       "            </tr>\n",
       "            <tr>\n",
       "                        <th id=\"T_dd237_level0_row10\" class=\"row_heading level0 row10\" >studio</th>\n",
       "                        <td id=\"T_dd237_row10_col0\" class=\"data row10 col0\" >0.000000</td>\n",
       "            </tr>\n",
       "            <tr>\n",
       "                        <th id=\"T_dd237_level0_row11\" class=\"row_heading level0 row11\" >open_plan</th>\n",
       "                        <td id=\"T_dd237_row11_col0\" class=\"data row11 col0\" >0.000000</td>\n",
       "            </tr>\n",
       "            <tr>\n",
       "                        <th id=\"T_dd237_level0_row12\" class=\"row_heading level0 row12\" >kitchen_area</th>\n",
       "                        <td id=\"T_dd237_row12_col0\" class=\"data row12 col0\" >9.000000</td>\n",
       "            </tr>\n",
       "            <tr>\n",
       "                        <th id=\"T_dd237_level0_row13\" class=\"row_heading level0 row13\" >balcony</th>\n",
       "                        <td id=\"T_dd237_row13_col0\" class=\"data row13 col0\" >0.000000</td>\n",
       "            </tr>\n",
       "            <tr>\n",
       "                        <th id=\"T_dd237_level0_row14\" class=\"row_heading level0 row14\" >locality_name</th>\n",
       "                        <td id=\"T_dd237_row14_col0\" class=\"data row14 col0\" >0.000000</td>\n",
       "            </tr>\n",
       "            <tr>\n",
       "                        <th id=\"T_dd237_level0_row15\" class=\"row_heading level0 row15\" >airports_nearest</th>\n",
       "                        <td id=\"T_dd237_row15_col0\" class=\"data row15 col0\" >0.000000</td>\n",
       "            </tr>\n",
       "            <tr>\n",
       "                        <th id=\"T_dd237_level0_row16\" class=\"row_heading level0 row16\" >city_centers_nearest</th>\n",
       "                        <td id=\"T_dd237_row16_col0\" class=\"data row16 col0\" >24.000000</td>\n",
       "            </tr>\n",
       "            <tr>\n",
       "                        <th id=\"T_dd237_level0_row17\" class=\"row_heading level0 row17\" >parks_around</th>\n",
       "                        <td id=\"T_dd237_row17_col0\" class=\"data row17 col0\" >0.000000</td>\n",
       "            </tr>\n",
       "            <tr>\n",
       "                        <th id=\"T_dd237_level0_row18\" class=\"row_heading level0 row18\" >parks_nearest</th>\n",
       "                        <td id=\"T_dd237_row18_col0\" class=\"data row18 col0\" >0.000000</td>\n",
       "            </tr>\n",
       "            <tr>\n",
       "                        <th id=\"T_dd237_level0_row19\" class=\"row_heading level0 row19\" >ponds_around</th>\n",
       "                        <td id=\"T_dd237_row19_col0\" class=\"data row19 col0\" >0.000000</td>\n",
       "            </tr>\n",
       "            <tr>\n",
       "                        <th id=\"T_dd237_level0_row20\" class=\"row_heading level0 row20\" >ponds_nearest</th>\n",
       "                        <td id=\"T_dd237_row20_col0\" class=\"data row20 col0\" >0.000000</td>\n",
       "            </tr>\n",
       "            <tr>\n",
       "                        <th id=\"T_dd237_level0_row21\" class=\"row_heading level0 row21\" >days_exposition</th>\n",
       "                        <td id=\"T_dd237_row21_col0\" class=\"data row21 col0\" >13.000000</td>\n",
       "            </tr>\n",
       "            <tr>\n",
       "                        <th id=\"T_dd237_level0_row22\" class=\"row_heading level0 row22\" >price_one_meter</th>\n",
       "                        <td id=\"T_dd237_row22_col0\" class=\"data row22 col0\" >0.000000</td>\n",
       "            </tr>\n",
       "            <tr>\n",
       "                        <th id=\"T_dd237_level0_row23\" class=\"row_heading level0 row23\" >weekday</th>\n",
       "                        <td id=\"T_dd237_row23_col0\" class=\"data row23 col0\" >0.000000</td>\n",
       "            </tr>\n",
       "            <tr>\n",
       "                        <th id=\"T_dd237_level0_row24\" class=\"row_heading level0 row24\" >month</th>\n",
       "                        <td id=\"T_dd237_row24_col0\" class=\"data row24 col0\" >0.000000</td>\n",
       "            </tr>\n",
       "            <tr>\n",
       "                        <th id=\"T_dd237_level0_row25\" class=\"row_heading level0 row25\" >year</th>\n",
       "                        <td id=\"T_dd237_row25_col0\" class=\"data row25 col0\" >0.000000</td>\n",
       "            </tr>\n",
       "            <tr>\n",
       "                        <th id=\"T_dd237_level0_row26\" class=\"row_heading level0 row26\" >type_floor</th>\n",
       "                        <td id=\"T_dd237_row26_col0\" class=\"data row26 col0\" >0.000000</td>\n",
       "            </tr>\n",
       "            <tr>\n",
       "                        <th id=\"T_dd237_level0_row27\" class=\"row_heading level0 row27\" >distance_centre</th>\n",
       "                        <td id=\"T_dd237_row27_col0\" class=\"data row27 col0\" >0.000000</td>\n",
       "            </tr>\n",
       "    </tbody></table>"
      ],
      "text/plain": [
       "<pandas.io.formats.style.Styler at 0x7fe2f75f0790>"
      ]
     },
     "execution_count": 62,
     "metadata": {},
     "output_type": "execute_result"
    }
   ],
   "source": [
    "pd.DataFrame(round(data.isna().mean()*100,)\n",
    "            ).style.background_gradient('coolwarm')\n",
    "#проверка на дубликаты"
   ]
  },
  {
   "cell_type": "code",
   "execution_count": 7,
   "metadata": {},
   "outputs": [],
   "source": [
    "\n",
    "data = data.dropna(subset=['floors_total'])\n",
    "data = data.dropna(subset=['locality_name'])\n",
    "\n",
    "data['ceiling_height'] = data['ceiling_height'].fillna(data['ceiling_height'].median())\n",
    "\n",
    "data['is_apartment'] = data['is_apartment'].fillna('False')\n",
    "data['balcony'] = data['balcony'].fillna('0')\n",
    "data['airports_nearest'] = data['airports_nearest'].fillna('0')\n",
    "data['parks_around3000'] = data['parks_around3000'].fillna('0')\n",
    "data['parks_nearest'] = data['parks_nearest'].fillna('0')\n",
    "data['ponds_around3000'] = data['ponds_around3000'].fillna('0')\n",
    "data['ponds_nearest'] = data['ponds_nearest'].fillna('0')\n",
    "\n",
    "\n",
    "for i in data['rooms'].unique(): \n",
    "    data.loc[(data['rooms'] == i) & (data['living_area'].isna()), 'living_area'] = \\\n",
    "    data.loc[(data['rooms'] == i), 'living_area'].median()\n",
    "    "
   ]
  },
  {
   "cell_type": "markdown",
   "metadata": {},
   "source": [
    "Пропущены значения в столбцах: \n",
    "\n",
    "ceiling_height - заполняем медианным значением   \n",
    "floors_total - невозможно заполнить точными данными, пропусков мало, меньше 1%, можно удалить  \n",
    "living_area - заполняем медианным значением по количеству комнат   \n",
    "is_apartment - скорее всего пропуски означают, что это не опартоменты, заменяем на False   \n",
    "kitchen_area - может означать отсутствие кухни, оставляем   \n",
    "balcony - пропуск означает отсутсвие, меняем на 0   \n",
    "locality_name - нет информации о локации, всего 49 пропусков, меньше 1%, можно удалить   \n",
    "airports_nearest - пропуск означает, отсутствие поблизости, меняем на 0 (так как данные автоматические)   \n",
    "cityCenters_nearest  - пропуск может означать, что дом загородом, можно оставить, нет данных для заполнения, но вдальнейшем поменяем на 0 для дальнейшей работы с данными   \n",
    "parks_around3000 - пропуск означает, отсутствие поблизости, меняем на 0 (так как данные автоматические)   \n",
    "parks_nearest - пропуск означает, отсутствие поблизости, меняем на 0 (так как данные автоматические)   \n",
    "ponds_around3000 - пропуск означает, отсутствие поблизости, меняем на 0 (так как данные автоматические)   \n",
    "ponds_nearest - пропуск означает, отсутствие поблизости, меняем на 0 (так как данные автоматические)   \n",
    "days_exposition - нет данных о количестве дней, возможно объявление еще не закрыто, оставляем\n",
    "\n",
    "В первой половине таблицы пропуски можно объяснить тем, что люди просто не записали данные о квартирах. Особенно заметно по высоте потолков (мало кто её знает). Вторая половина пропусков, связана с отсутствием данных, поскольку их заполнял компьютер.\n"
   ]
  },
  {
   "cell_type": "code",
   "execution_count": 8,
   "metadata": {},
   "outputs": [],
   "source": [
    "data['last_price'] = data['last_price'].astype(int)\n",
    "data['floors_total'] = data['floors_total'].astype(int)\n",
    "data['balcony'] = data['balcony'].astype(int)\n",
    "data['airports_nearest'] = data['airports_nearest'].astype(int)\n",
    "data['parks_around3000'] = data['parks_around3000'].astype(int)\n",
    "data['parks_nearest'] = data['parks_nearest'].astype(int)\n",
    "data['ponds_around3000'] = data['ponds_around3000'].astype(int)\n",
    "data['ponds_nearest'] = data['ponds_nearest'].astype(int)\n",
    "\n",
    "data['first_day_exposition'] = pd.to_datetime(data['first_day_exposition'], format=\"%Y/%m/%dT%H:%M:%S\")\n",
    "\n",
    "# Преобразовал столбцы в тип данных int для удобства. В любом случае после запятой были нули. (кроме стобцов с пропусками)\n",
    "# Так же привел столбец с датой в читаемый вид."
   ]
  },
  {
   "cell_type": "code",
   "execution_count": 9,
   "metadata": {},
   "outputs": [],
   "source": [
    "data = data.rename(columns = {'cityCenters_nearest': 'city_centers_nearest', 'parks_around3000' : 'parks_around',\n",
    "                             'ponds_around3000' : 'ponds_around' })\n",
    "#изменил на более корректные названия столбцов"
   ]
  },
  {
   "cell_type": "code",
   "execution_count": 10,
   "metadata": {},
   "outputs": [
    {
     "data": {
      "text/plain": [
       "['садоводческое некоммерческое товарищество Лесная Поляна',\n",
       " 'при железнодорожной Приветнинское',\n",
       " 'при железнодорожной Вещево',\n",
       " 'имени Свердлова',\n",
       " 'имени Морозова',\n",
       " 'Янино-1',\n",
       " 'Ям-Тесово',\n",
       " 'Яльгелево',\n",
       " 'Ялгино',\n",
       " 'Юкки',\n",
       " 'Щеглово',\n",
       " 'Шушары',\n",
       " 'Шум',\n",
       " 'Шугозеро',\n",
       " 'Шпаньково',\n",
       " 'Шлиссельбург',\n",
       " 'Чудской Бор',\n",
       " 'Цвылево',\n",
       " 'Цвелодубово',\n",
       " 'Хязельки',\n",
       " 'Хапо-Ое',\n",
       " 'Форт Красная Горка',\n",
       " 'Форносово',\n",
       " 'Федоровское',\n",
       " 'Фалилеево',\n",
       " 'Ушаки',\n",
       " 'Усть-Луга',\n",
       " 'Усть-Ижора',\n",
       " 'Ульяновка',\n",
       " 'Углово',\n",
       " 'Трубников Бор',\n",
       " 'Тосно',\n",
       " 'Торфяное',\n",
       " 'Торошковичи',\n",
       " 'Торосово',\n",
       " 'Торковичи',\n",
       " 'Токсово',\n",
       " 'Тойворово',\n",
       " 'Тихковицы',\n",
       " 'Тихвин',\n",
       " 'Тесово-4',\n",
       " 'Терпилицы',\n",
       " 'Терволово',\n",
       " 'Тельмана',\n",
       " 'Тарасово',\n",
       " 'Тайцы',\n",
       " 'Сясьстрой',\n",
       " 'Сяськелево',\n",
       " 'Счастье',\n",
       " 'Суходолье',\n",
       " 'Суоранда',\n",
       " 'Сумино',\n",
       " 'Суйда',\n",
       " 'Стрельна',\n",
       " 'Стеклянный',\n",
       " 'Старые Бегуницы',\n",
       " 'Старосиверская',\n",
       " 'Старополье',\n",
       " 'Старое Хинколово',\n",
       " 'Старая Пустошь',\n",
       " 'Старая Малукса',\n",
       " 'Старая Ладога',\n",
       " 'Старая',\n",
       " 'Сосновый Бор',\n",
       " 'Сосново',\n",
       " 'Совхозный',\n",
       " 'Советский',\n",
       " 'Снегиревка',\n",
       " 'Сланцы',\n",
       " 'Синявино',\n",
       " 'Сижно',\n",
       " 'Сиверский',\n",
       " 'Сестрорецк',\n",
       " 'Сертолово',\n",
       " 'Серебрянский',\n",
       " 'Семрино',\n",
       " 'Семиозерье',\n",
       " 'Сельцо',\n",
       " 'Селезнево',\n",
       " 'Севастьяново',\n",
       " 'Свирьстрой',\n",
       " 'Свирь',\n",
       " 'Светогорск',\n",
       " 'Саперный',\n",
       " 'Саперное',\n",
       " 'Санкт-Петербург',\n",
       " 'Садко',\n",
       " 'Рябово',\n",
       " 'Русско-Высоцкое',\n",
       " 'Русско',\n",
       " 'Рощино',\n",
       " 'Ропша',\n",
       " 'Ромашки',\n",
       " 'Романовка',\n",
       " 'Рождествено',\n",
       " 'Репино',\n",
       " 'Реброво',\n",
       " 'Рахья',\n",
       " 'Рапполово',\n",
       " 'Разметелево',\n",
       " 'Раздолье',\n",
       " 'Разбегаево',\n",
       " 'Рабитицы',\n",
       " 'Пчевжа',\n",
       " 'Пчева',\n",
       " 'Пушное',\n",
       " 'Пушкин',\n",
       " 'Путилово',\n",
       " 'Пустынка',\n",
       " 'Пудость',\n",
       " 'Пудомяги',\n",
       " 'Приозерск',\n",
       " 'Приморск',\n",
       " 'Приладожский',\n",
       " 'Пригородный',\n",
       " 'Приветнинское',\n",
       " 'Починок',\n",
       " 'Почап',\n",
       " 'Понтонный',\n",
       " 'Поляны',\n",
       " 'Подпорожье',\n",
       " 'Победа',\n",
       " 'Плоское',\n",
       " 'Плодовое',\n",
       " 'Платформа 69-й километр',\n",
       " 'Пикколово',\n",
       " 'Пикалево',\n",
       " 'Пижма',\n",
       " 'Петровское',\n",
       " 'Петро-Славянка',\n",
       " 'Петергоф',\n",
       " 'Песочный',\n",
       " 'Перово',\n",
       " 'Первомайское',\n",
       " 'Пеники',\n",
       " 'Пельгора',\n",
       " 'Паша',\n",
       " 'Парицы',\n",
       " 'Парголово',\n",
       " 'Пансионат Зеленый Бор',\n",
       " 'Павловск',\n",
       " 'Павлово',\n",
       " 'Отрадное',\n",
       " 'Оржицы',\n",
       " 'Оредеж',\n",
       " 'Нурма',\n",
       " 'Новый Учхоз',\n",
       " 'Новый Свет',\n",
       " 'Новоселье',\n",
       " 'Новолисино',\n",
       " 'Новое Девяткино',\n",
       " 'Новогорелово',\n",
       " 'Новая Ропша',\n",
       " 'Новая Ладога',\n",
       " 'Никольское',\n",
       " 'Никольский',\n",
       " 'Низино',\n",
       " 'Нижняя',\n",
       " 'Нижние Осельки',\n",
       " 'Ненимяки',\n",
       " 'Назия',\n",
       " 'Мыза-Ивановка',\n",
       " 'Мурино',\n",
       " 'Молодцово',\n",
       " 'Молодежное',\n",
       " 'Мичуринское',\n",
       " 'Мистолово',\n",
       " 'Мины',\n",
       " 'Металлострой',\n",
       " 'Меньково',\n",
       " 'Мельниково',\n",
       " 'Мга',\n",
       " 'Мануйлово',\n",
       " 'Малые Колпаны',\n",
       " 'Малое Карлино',\n",
       " 'Малое Верево',\n",
       " 'Малая Романовка',\n",
       " 'Любань',\n",
       " 'Лупполово',\n",
       " 'Лукаши',\n",
       " 'Лужайка',\n",
       " 'Луга',\n",
       " 'Лопухинка',\n",
       " 'Ломоносов',\n",
       " 'Лодейное Поле',\n",
       " 'Лисий Нос',\n",
       " 'Лесогорский',\n",
       " 'Лесное',\n",
       " 'Лесколово',\n",
       " 'Ленинское',\n",
       " 'Левашово',\n",
       " 'Лебяжье',\n",
       " 'Лампово',\n",
       " 'Лаголово',\n",
       " 'Лаврики',\n",
       " 'Куттузи',\n",
       " 'Куровицы',\n",
       " 'Курковицы',\n",
       " 'Кузьмоловский',\n",
       " 'Кузьмолово',\n",
       " 'Кузнечное',\n",
       " 'Кудрово',\n",
       " 'Кронштадт',\n",
       " 'Кривко',\n",
       " 'Красный Бор',\n",
       " 'Красносельское',\n",
       " 'Красное Село',\n",
       " 'Красная Долина',\n",
       " 'Котлы',\n",
       " 'Котельский',\n",
       " 'Коробицыно',\n",
       " 'Корнево',\n",
       " 'Коркино',\n",
       " 'Копорье',\n",
       " 'Кондратьево',\n",
       " 'Коммунары',\n",
       " 'Коммунар',\n",
       " 'Колтуши',\n",
       " 'Колпино',\n",
       " 'Кобринское',\n",
       " 'Кобралово',\n",
       " 'Кисельня',\n",
       " 'Кирпичное',\n",
       " 'Кировск',\n",
       " 'Кириши',\n",
       " 'Кипень',\n",
       " 'Кингисеппский',\n",
       " 'Кингисепп',\n",
       " 'Кикерино',\n",
       " 'Кивеннапа Север',\n",
       " 'Келози',\n",
       " 'Каськово',\n",
       " 'Камышовка',\n",
       " 'Каменногорск',\n",
       " 'Кальтино',\n",
       " 'Каложицы',\n",
       " 'Калитино',\n",
       " 'Иссад',\n",
       " 'Ильичево',\n",
       " 'Извара',\n",
       " 'Ивангород',\n",
       " 'Зимитицы',\n",
       " 'Зеленогорск',\n",
       " 'Запорожское',\n",
       " 'Заневка',\n",
       " 'Заклинье',\n",
       " 'Заводской',\n",
       " 'Житково',\n",
       " 'Жилпоселок',\n",
       " 'Жилгородок',\n",
       " 'Ефимовский',\n",
       " 'Елизаветино',\n",
       " 'Дубровка',\n",
       " 'Дружноселье',\n",
       " 'Дружная Горка',\n",
       " 'Дзержинского',\n",
       " 'Громово',\n",
       " 'Гостилицы',\n",
       " 'Горбунки',\n",
       " 'Гончарово',\n",
       " 'Глинка',\n",
       " 'Глебычево',\n",
       " 'Глажево',\n",
       " 'Гладкое',\n",
       " 'Гатчина',\n",
       " 'Гарболово',\n",
       " 'Гаврилово',\n",
       " 'Высоцк',\n",
       " 'Высокоключевой',\n",
       " 'Выскатка',\n",
       " 'Вырица',\n",
       " 'Выборг',\n",
       " 'Всеволожск',\n",
       " 'Волхов',\n",
       " 'Волосово',\n",
       " 'Володарское',\n",
       " 'Войскорово',\n",
       " 'Войсковицы',\n",
       " 'Возрождение',\n",
       " 'Вознесенье',\n",
       " 'Виллози',\n",
       " 'Вещево',\n",
       " 'Вахнова Кара',\n",
       " 'Вартемяги',\n",
       " 'Важины',\n",
       " 'Ваганово',\n",
       " 'Будогощь',\n",
       " 'Бугры',\n",
       " 'Борисова Грива',\n",
       " 'Бор',\n",
       " 'Большой Сабск',\n",
       " 'Большое Рейзино',\n",
       " 'Большие Колпаны',\n",
       " 'Большая Пустомержа',\n",
       " 'Большая Ижора',\n",
       " 'Большая Вруда',\n",
       " 'Бокситогорск',\n",
       " 'Белоостров',\n",
       " 'Белогорка',\n",
       " 'Бегуницы',\n",
       " 'Батово',\n",
       " 'Барышево',\n",
       " 'Аро',\n",
       " 'Аннино',\n",
       " 'Алексеевка',\n",
       " 'Александровская',\n",
       " 'Агалатово']"
      ]
     },
     "execution_count": 10,
     "metadata": {},
     "output_type": "execute_result"
    }
   ],
   "source": [
    "#data.duplicated().sum() явных дубликуатов нет, устраняем неявные\n",
    "data['locality_name'] = data['locality_name'].str.replace('ё','е')\n",
    "data['locality_name'] = data['locality_name'].replace(['село ', 'городской поселок ', 'котеджный ',\n",
    "                                                       'садовое товарищество ', 'деревня ', 'поселок ',\n",
    "                                                       'станции ', 'городского типа ','коттеджный '],'', regex=True)\n",
    "list(data['locality_name'].sort_values(ascending=False).unique())\n"
   ]
  },
  {
   "cell_type": "code",
   "execution_count": 11,
   "metadata": {},
   "outputs": [],
   "source": [
    "for i in data['ceiling_height']:\n",
    "    if i >= 9:\n",
    "        data['ceiling_height'] = data['ceiling_height'].replace({i: i / 10})\n",
    "#data['ceiling_height'].unique() \n",
    "#делим высоту потолка на 10 для тех значений которые больше 9м, поскольку значения аномально большие "
   ]
  },
  {
   "cell_type": "code",
   "execution_count": 12,
   "metadata": {},
   "outputs": [],
   "source": [
    "#Удаляем выбросы\n",
    "columns_to_filter = [\n",
    "    'last_price',\n",
    "    'living_area',\n",
    "    'kitchen_area',\n",
    "    'total_area',\n",
    "    'city_centers_nearest',\n",
    "    'airports_nearest',\n",
    "    'days_exposition',\n",
    "    'parks_nearest',\n",
    "    'ponds_nearest',\n",
    "    'total_area',\n",
    "]\n",
    "#Название столбцов с выбросами\n",
    "\n",
    "for i in columns_to_filter:\n",
    "    data = data[(data[i].isna()) | ((data[i] <= data[i].quantile(0.995)) & (data[i] >= data[i].quantile(0.005)))]\n",
    "#Цикл отсекающий выбросы по межквартильному интервалу, за исключением пропусков "
   ]
  },
  {
   "cell_type": "markdown",
   "metadata": {},
   "source": [
    "Преобразовал столбцы в целые числа, где это необходимо, для дальнейшего анализа и расчетов.\n",
    "Изменены названия столбцов на более корректные, для удобного прочтения таблицы.\n",
    "На данном этапе устранили дубликаты в названиях локации. Они появились из-за букв е и ё, и разного написания одного и того же населённого пункта.\n",
    "Были отсеяны значения, неподходящие для хода иследования. Аномалии и выбросы, для более точного анализа."
   ]
  },
  {
   "cell_type": "markdown",
   "metadata": {},
   "source": [
    "### Посчитайте и добавьте в таблицу новые столбцы"
   ]
  },
  {
   "cell_type": "code",
   "execution_count": 13,
   "metadata": {},
   "outputs": [],
   "source": [
    "data['price_one_meter'] = data['last_price'] / data['total_area']\n",
    "# Добавляем в таблицу цену за м2\n",
    "\n",
    "\n",
    "data['weekday'] = data['first_day_exposition'].dt.weekday\n",
    "# Добавляем день недели публикации\n",
    "\n",
    "data['month'] = data['first_day_exposition'].dt.month\n",
    "\n",
    "# Добавляем месяц публикации\n",
    "\n",
    "data['year'] = data['first_day_exposition'].dt.year\n",
    "# Добавляем столбец с годом публикации\n",
    "\n",
    "def type_floor(row):\n",
    "    if row['floor'] == 1:\n",
    "        return 'первый'\n",
    "    elif row['floor'] == row['floors_total']:\n",
    "        return 'последний'\n",
    "    else:\n",
    "        return 'другой'\n",
    "data['type_floor'] = data.apply(type_floor,axis = 1)\n",
    "#Добавляем столбец с типом этажа\n",
    "\n",
    "data['distance_centre'] = data['city_centers_nearest'] / 1000\n",
    "data['distance_centre'] = data['distance_centre'].fillna('0').astype(int)\n",
    "#Добавляем столбец с расстоянием до центра, заполнив пропуски на 0"
   ]
  },
  {
   "cell_type": "markdown",
   "metadata": {},
   "source": [
    "### Проведите исследовательский анализ данных"
   ]
  },
  {
   "cell_type": "code",
   "execution_count": 61,
   "metadata": {},
   "outputs": [
    {
     "data": {
      "image/png": "[encoded data removed]",
      "text/plain": [
       "<Figure size 432x288 with 1 Axes>"
      ]
     },
     "metadata": {
      "needs_background": "light"
     },
     "output_type": "display_data"
    },
    {
     "data": {
      "image/png": "[encoded data removed]",
      "text/plain": [
       "<Figure size 432x288 with 1 Axes>"
      ]
     },
     "metadata": {
      "needs_background": "light"
     },
     "output_type": "display_data"
    },
    {
     "data": {
      "image/png": "[encoded data removed]",
      "text/plain": [
       "<Figure size 432x288 with 1 Axes>"
      ]
     },
     "metadata": {
      "needs_background": "light"
     },
     "output_type": "display_data"
    },
    {
     "data": {
      "image/png": "[encoded data removed]",
      "text/plain": [
       "<Figure size 432x288 with 1 Axes>"
      ]
     },
     "metadata": {
      "needs_background": "light"
     },
     "output_type": "display_data"
    },
    {
     "data": {
      "image/png": "[encoded data removed]",
      "text/plain": [
       "<Figure size 432x288 with 1 Axes>"
      ]
     },
     "metadata": {
      "needs_background": "light"
     },
     "output_type": "display_data"
    },
    {
     "data": {
      "image/png": "[encoded data removed]",
      "text/plain": [
       "<Figure size 432x288 with 1 Axes>"
      ]
     },
     "metadata": {
      "needs_background": "light"
     },
     "output_type": "display_data"
    },
    {
     "data": {
      "image/png": "[encoded data removed]",
      "text/plain": [
       "<Figure size 432x288 with 1 Axes>"
      ]
     },
     "metadata": {
      "needs_background": "light"
     },
     "output_type": "display_data"
    },
    {
     "data": {
      "image/png": "[encoded data removed]",
      "text/plain": [
       "<Figure size 432x288 with 1 Axes>"
      ]
     },
     "metadata": {
      "needs_background": "light"
     },
     "output_type": "display_data"
    },
    {
     "data": {
      "image/png": "[encoded data removed]",
      "text/plain": [
       "<Figure size 432x288 with 1 Axes>"
      ]
     },
     "metadata": {
      "needs_background": "light"
     },
     "output_type": "display_data"
    },
    {
     "data": {
      "image/png": "[encoded data removed]",
      "text/plain": [
       "<Figure size 432x288 with 1 Axes>"
      ]
     },
     "metadata": {
      "needs_background": "light"
     },
     "output_type": "display_data"
    },
    {
     "data": {
      "image/png": "[encoded data removed]",
      "text/plain": [
       "<Figure size 432x288 with 1 Axes>"
      ]
     },
     "metadata": {
      "needs_background": "light"
     },
     "output_type": "display_data"
    },
    {
     "data": {
      "image/png": "[encoded data removed]",
      "text/plain": [
       "<Figure size 432x288 with 1 Axes>"
      ]
     },
     "metadata": {
      "needs_background": "light"
     },
     "output_type": "display_data"
    },
    {
     "data": {
      "image/png": "[encoded data removed]",
      "text/plain": [
       "<Figure size 432x288 with 1 Axes>"
      ]
     },
     "metadata": {
      "needs_background": "light"
     },
     "output_type": "display_data"
    },
    {
     "data": {
      "image/png": "[encoded data removed]",
      "text/plain": [
       "<Figure size 432x288 with 1 Axes>"
      ]
     },
     "metadata": {
      "needs_background": "light"
     },
     "output_type": "display_data"
    }
   ],
   "source": [
    "for_analysis = ['total_area', 'living_area', 'kitchen_area',\n",
    "                'last_price', 'rooms', 'ceiling_height',\n",
    "               'floor', 'type_floor', 'floors_total', 'city_centers_nearest',\n",
    "               'ponds_nearest', 'parks_nearest', 'weekday', 'month']\n",
    "for i in for_analysis:\n",
    "    data[i].hist()\n",
    "    plt.show()"
   ]
  },
  {
   "cell_type": "markdown",
   "metadata": {},
   "source": [
    "Больше всего объявлений с общей площадью от 25 до 65 м2, пик в районе 40-50м2\n",
    "\n",
    "Основное количество объявлений с жилой площадью от 10 до 45 м2, пик в районе 20м2\n",
    "\n",
    "Все основные значения находяться с площадью кухни от 5 до 12м2\n",
    "\n",
    "Большинство однокомнатных и двухкомнатных квартир, чуть меньше трехкомнатных\n",
    "\n",
    "Высота потолков находится в диапозоне 2,5 - 3,2 метра\n",
    "\n",
    "В объявлениях преобладают квартиры до 5 этажа\n",
    "\n",
    "Оснавная масса объявлений с квартирами, которые не находятся на первом или последнем этажах. \n",
    "\n",
    "Большинство домов этажностью от 5 до  12 этажей\n",
    "\n",
    "Большинство домов из объявлений находяться на расстоянии 10 -15 км от центра, при этом домов ближе к центру больше, чем домов дальше 15 км.\n",
    "\n",
    "Подавляющее число объявлений имеет близкую расположенность к водоемам (100м). Местность богата на водные ресурсы.\n",
    "\n",
    "Аналогично и с парками, огромное количество объемлений имеют парк в расстоянии не более 200 метров.\n",
    "\n",
    "Объявлений в выходные дни публикуется меньше, чем в будни.\n",
    "\n",
    "Чаще объявления публикуют в начале и в конце года."
   ]
  },
  {
   "cell_type": "code",
   "execution_count": 29,
   "metadata": {},
   "outputs": [
    {
     "data": {
      "text/html": [
       "<div>\n",
       "<style scoped>\n",
       "    .dataframe tbody tr th:only-of-type {\n",
       "        vertical-align: middle;\n",
       "    }\n",
       "\n",
       "    .dataframe tbody tr th {\n",
       "        vertical-align: top;\n",
       "    }\n",
       "\n",
       "    .dataframe thead th {\n",
       "        text-align: right;\n",
       "    }\n",
       "</style>\n",
       "<table border=\"1\" class=\"dataframe\">\n",
       "  <thead>\n",
       "    <tr style=\"text-align: right;\">\n",
       "      <th></th>\n",
       "      <th>days_exposition</th>\n",
       "    </tr>\n",
       "  </thead>\n",
       "  <tbody>\n",
       "    <tr>\n",
       "      <th>mean</th>\n",
       "      <td>172.59</td>\n",
       "    </tr>\n",
       "    <tr>\n",
       "      <th>median</th>\n",
       "      <td>93.00</td>\n",
       "    </tr>\n",
       "  </tbody>\n",
       "</table>\n",
       "</div>"
      ],
      "text/plain": [
       "        days_exposition\n",
       "mean             172.59\n",
       "median            93.00"
      ]
     },
     "execution_count": 29,
     "metadata": {},
     "output_type": "execute_result"
    },
    {
     "data": {
      "image/png": "[encoded data removed]",
      "text/plain": [
       "<Figure size 432x288 with 1 Axes>"
      ]
     },
     "metadata": {
      "needs_background": "light"
     },
     "output_type": "display_data"
    }
   ],
   "source": [
    "#Изучим сколько дней продавались квартиры\n",
    "data['days_exposition'].hist()        \n",
    "data.agg({'days_exposition' : ['mean', 'median']})\n"
   ]
  },
  {
   "cell_type": "code",
   "execution_count": 30,
   "metadata": {},
   "outputs": [
    {
     "data": {
      "text/plain": [
       "count   18962.00\n",
       "mean      172.59\n",
       "std       201.79\n",
       "min         3.00\n",
       "25%        44.00\n",
       "50%        93.00\n",
       "75%       223.00\n",
       "max      1166.00\n",
       "Name: days_exposition, dtype: float64"
      ]
     },
     "execution_count": 30,
     "metadata": {},
     "output_type": "execute_result"
    }
   ],
   "source": [
    "data['days_exposition'].describe() "
   ]
  },
  {
   "cell_type": "markdown",
   "metadata": {},
   "source": [
    "Как можно заметить, большинство квартир продается не более чем за 250 дней(75%  за 223 дня). Из этого можно сделать вывод, что\n",
    "чем меньше времени прошло с момента публикации, тем вероятнее, что квартира будет продана. Особенно это актуально в первые \n",
    "180 дней публикации, где самый высокий покачатель продаж.\n",
    "\n",
    "Быстрыми продажами можно считать, продажи в первые 44 дня, а долгими после 223 дня."
   ]
  },
  {
   "cell_type": "code",
   "execution_count": 31,
   "metadata": {},
   "outputs": [
    {
     "data": {
      "image/png": "[encoded data removed]",
      "text/plain": [
       "<Figure size 1296x1440 with 9 Axes>"
      ]
     },
     "metadata": {
      "needs_background": "light"
     },
     "output_type": "display_data"
    }
   ],
   "source": [
    "# Факторы, которые больше всего влияют на общую (полную) стоимость объекта.\n",
    "rows = 3\n",
    "cols = 3\n",
    "fig, axes = plt.subplots(3, 3)\n",
    "axes = axes.ravel()\n",
    "i = 0\n",
    " \n",
    "for col in ['living_area', 'kitchen_area', 'total_area', 'ceiling_height', \n",
    "            'month', 'weekday', 'year', 'city_centers_nearest', 'floor']:\n",
    "    ax = data.plot(x=col, y='last_price', kind='scatter', ax = axes[i], figsize=(18, 20), grid=True)\n",
    "    i+=1"
   ]
  },
  {
   "cell_type": "code",
   "execution_count": 47,
   "metadata": {},
   "outputs": [
    {
     "data": {
      "image/png": "[encoded data removed]",
      "text/plain": [
       "<Figure size 360x360 with 1 Axes>"
      ]
     },
     "metadata": {
      "needs_background": "light"
     },
     "output_type": "display_data"
    }
   ],
   "source": [
    "data.plot(x='type_floor', y='last_price', kind='scatter', figsize=(5, 5), grid=True);"
   ]
  },
  {
   "cell_type": "code",
   "execution_count": 33,
   "metadata": {},
   "outputs": [
    {
     "name": "stdout",
     "output_type": "stream",
     "text": [
      "0.6036187205726259\n",
      "0.5521523626088911\n",
      "0.7378188432719595\n",
      "0.3628902658313056\n",
      "-0.003738736273127405\n",
      "-0.01288888852590404\n",
      "-0.01765203628696666\n",
      "-0.3449468379140966\n",
      "0.07328813719523818\n"
     ]
    }
   ],
   "source": [
    "for i in ['living_area', 'kitchen_area', 'total_area', 'ceiling_height', \n",
    "            'month', 'weekday', 'year', 'city_centers_nearest', 'floor',]:\n",
    "    print(data[i].corr(data['last_price']))"
   ]
  },
  {
   "cell_type": "markdown",
   "metadata": {},
   "source": [
    "Из корреляции можно увидеть, что зависмость присутствует у площадей, высоты потолка и удаленности от центра. Зависимости от высоты этажа небольшая. У остальных факторов зависимость практически отсутствует.\n"
   ]
  },
  {
   "cell_type": "markdown",
   "metadata": {},
   "source": [
    "Жилая площадь влияет на цену. Чем больше количество м2 тем заметнее растет цена. Явные отличия начинаются с 50м2. \n",
    "\n",
    "Аналогичные выводы можно сделать, как для площади кухни, так и для влощади квартиры в целом.\n",
    "\n",
    "Наиболее ярко это отражено в площади квартиры, где зависимость площади прослеживается более плавно и структурировано.\n",
    "\n",
    "Из графика высоты потолков, можно заметить, что небольшая зависимость есть. Высота потолка немного влияет на цену.\n",
    "\n",
    "Месяц года, не влияет на цену квартиры.\n",
    "\n",
    "По графику дней недели видно, что в выходные дни цена чуть меньше, но коэффицент кореляции говорит об обратном. Зависимости нет.\n",
    "\n",
    "С 2014 года цены на квартиры росли, но тенденция роста стагнировала начиная с 2017 года.\n",
    "\n",
    "Близость к центру также влияет на цену. Чем ближе к центру, тем выше цена. Наиболее дорогие объявления где расстояние до 10км.\n",
    "По мере удаленности цена падает.\n",
    "\n",
    "Зависимость цены и высоты этажа практически отсутствует.\n",
    "Наиболее сильно влияют на цену такие факторы как: Расстояние до центра, этаж и площадь(кухни, жилая или общая).\n",
    "\n",
    "Первый и последний этаж стоят дешевле других."
   ]
  },
  {
   "cell_type": "code",
   "execution_count": 34,
   "metadata": {},
   "outputs": [
    {
     "data": {
      "text/html": [
       "<div>\n",
       "<style scoped>\n",
       "    .dataframe tbody tr th:only-of-type {\n",
       "        vertical-align: middle;\n",
       "    }\n",
       "\n",
       "    .dataframe tbody tr th {\n",
       "        vertical-align: top;\n",
       "    }\n",
       "\n",
       "    .dataframe thead th {\n",
       "        text-align: right;\n",
       "    }\n",
       "</style>\n",
       "<table border=\"1\" class=\"dataframe\">\n",
       "  <thead>\n",
       "    <tr style=\"text-align: right;\">\n",
       "      <th></th>\n",
       "      <th>локация</th>\n",
       "      <th>количество</th>\n",
       "      <th>среднее</th>\n",
       "    </tr>\n",
       "  </thead>\n",
       "  <tbody>\n",
       "    <tr>\n",
       "      <th>212</th>\n",
       "      <td>Санкт-Петербург</td>\n",
       "      <td>14554</td>\n",
       "      <td>110959.07</td>\n",
       "    </tr>\n",
       "    <tr>\n",
       "      <th>135</th>\n",
       "      <td>Мурино</td>\n",
       "      <td>530</td>\n",
       "      <td>84839.36</td>\n",
       "    </tr>\n",
       "    <tr>\n",
       "      <th>97</th>\n",
       "      <td>Кудрово</td>\n",
       "      <td>436</td>\n",
       "      <td>94569.53</td>\n",
       "    </tr>\n",
       "    <tr>\n",
       "      <th>277</th>\n",
       "      <td>Шушары</td>\n",
       "      <td>424</td>\n",
       "      <td>77851.70</td>\n",
       "    </tr>\n",
       "    <tr>\n",
       "      <th>31</th>\n",
       "      <td>Всеволожск</td>\n",
       "      <td>391</td>\n",
       "      <td>68679.59</td>\n",
       "    </tr>\n",
       "    <tr>\n",
       "      <th>191</th>\n",
       "      <td>Пушкин</td>\n",
       "      <td>351</td>\n",
       "      <td>102966.60</td>\n",
       "    </tr>\n",
       "    <tr>\n",
       "      <th>83</th>\n",
       "      <td>Колпино</td>\n",
       "      <td>332</td>\n",
       "      <td>75142.24</td>\n",
       "    </tr>\n",
       "    <tr>\n",
       "      <th>159</th>\n",
       "      <td>Парголово</td>\n",
       "      <td>309</td>\n",
       "      <td>90886.10</td>\n",
       "    </tr>\n",
       "    <tr>\n",
       "      <th>38</th>\n",
       "      <td>Гатчина</td>\n",
       "      <td>302</td>\n",
       "      <td>68846.42</td>\n",
       "    </tr>\n",
       "    <tr>\n",
       "      <th>32</th>\n",
       "      <td>Выборг</td>\n",
       "      <td>226</td>\n",
       "      <td>58005.20</td>\n",
       "    </tr>\n",
       "  </tbody>\n",
       "</table>\n",
       "</div>"
      ],
      "text/plain": [
       "             локация  количество   среднее\n",
       "212  Санкт-Петербург       14554 110959.07\n",
       "135           Мурино         530  84839.36\n",
       "97           Кудрово         436  94569.53\n",
       "277           Шушары         424  77851.70\n",
       "31        Всеволожск         391  68679.59\n",
       "191           Пушкин         351 102966.60\n",
       "83           Колпино         332  75142.24\n",
       "159        Парголово         309  90886.10\n",
       "38           Гатчина         302  68846.42\n",
       "32            Выборг         226  58005.20"
      ]
     },
     "execution_count": 34,
     "metadata": {},
     "output_type": "execute_result"
    }
   ],
   "source": [
    "#Средняя цена одного квадратного метра в 10 населённых пунктах с наибольшим числом объявлений\n",
    "\n",
    "average_price = data.pivot_table(index='locality_name', values='price_one_meter', \n",
    "                                 aggfunc=['count', 'mean']).reset_index(level='locality_name')\n",
    "\n",
    "average_price.columns = ['локация', 'количество', 'среднее']\n",
    "average_price.sort_values(by='количество', ascending = False).head(10)\n"
   ]
  },
  {
   "cell_type": "markdown",
   "metadata": {},
   "source": [
    "Из 10 локаций с самым высоким числом объявлений\n",
    "Самая высокая средняя цена за м2 в Санкт-Петерберге\n",
    "Самая низкая средняя цена за м2 в Выборге\n"
   ]
  },
  {
   "cell_type": "code",
   "execution_count": 35,
   "metadata": {},
   "outputs": [
    {
     "data": {
      "image/png": "[encoded data removed]",
      "text/plain": [
       "<Figure size 1008x432 with 1 Axes>"
      ]
     },
     "metadata": {
      "needs_background": "light"
     },
     "output_type": "display_data"
    }
   ],
   "source": [
    "data_spb = data[data['locality_name'] == 'Санкт-Петербург'].query('distance_centre != 0')\n",
    "group_spb = data_spb.groupby('distance_centre')['price_one_meter'].mean().sort_values(ascending=False)\n",
    "group_spb.plot(x='distance_centre', y='price_one_meter', figsize=(14,6), kind='bar', grid=True, title = 'динамика цены от удаленности');"
   ]
  },
  {
   "cell_type": "code",
   "execution_count": 36,
   "metadata": {},
   "outputs": [
    {
     "data": {
      "image/png": "[encoded data removed]",
      "text/plain": [
       "<Figure size 1008x432 with 1 Axes>"
      ]
     },
     "metadata": {
      "needs_background": "light"
     },
     "output_type": "display_data"
    }
   ],
   "source": [
    "group_spb = data_spb.groupby('distance_centre')['total_area'].mean().sort_values(ascending=False)\n",
    "group_spb.plot(x='distance_centre', y='total_area', figsize=(14,6), kind='bar', grid=True, title = 'динамика цены от площади');"
   ]
  },
  {
   "cell_type": "markdown",
   "metadata": {},
   "source": [
    "Из данных графиков  можно заметить, что удаленность от центра Санкт-Петербурга влияет на стоимость квартир. \n",
    "Чем дальше от центра, тем ниже цена, но при этом чем дальше от центра, тем меньше площадь квартир.\n",
    "Отсюда следует, что упала не столько цена, сколько площадь продаваемых квартир.\n"
   ]
  },
  {
   "cell_type": "markdown",
   "metadata": {},
   "source": [
    "### Общий вывод"
   ]
  },
  {
   "cell_type": "markdown",
   "metadata": {},
   "source": [
    "О полученых данных:\n",
    "\n",
    "1. В данных полученых для иследования, довольно много пропущенных значений, что может быть связано как с человеческим фактором, так и програмной ошибкой. Люди могли просто не записали данные о квартирах. Особенно заметно по высоте потолков. Вторая половина пропусков, связана с отсутствием данных, или сбоем поскольку их заполнял компьютер. Стоит просить людей быть внимательнее в заполнение данных о квартире. И устранить ошибки на основе картографических данных.\n",
    "2. Были отсеяны значения, неподходящие для хода иследования. Аномалии и выбросы, для более точного анализа, поскольку нам необходимо установить параметры. \n",
    "\n",
    "В ходе иследования мною было выявлено:\n",
    "\n",
    "Факторы, которые сильнее всего влияют на цену: расстояние до центра, высота потолков и площадь(кухни, жилая или общая).\n",
    "Чем больше м2, тем заметнее растет цена. \n",
    "Месяц года не влияет на цену квартиры, как и день недели, но объявлений в выходные дни публикуется меньше. \n",
    "С 2014 года цены на квартиры росли, но тенденция роста стагнировала начиная с 2017 года. Возможно из-за внутренней экономики страны.\n",
    "Чем ближе к центру, тем выше цена. Наиболее дорогие объявления, где расстояние не превышает 10км. По мере удаленности цена падает. Соответственно предпочтения отдаются квартирам в близлежащей доступности к инфраструктуре города.\n",
    "Также, удаленность от центра Санкт-Петербурга влияет на стоимость квартир в самом Санкт-Петербурге, но связано это не только с удаленностью, но и площадью квартир, которая уменьшается от центра.\n",
    "Непрослеживается четкой зависимости цены и высоты этажа, цена меняется медленно. Этот параметр не является определяющим.\n",
    "Основное количество объявлений в городе Санк-Петербург(больше половины). Это логично, ведь численность населения там больше.\n",
    "Подавляющее большинство объявлений находится в близости к паркам и водоемам, что говорит о особенности местности, поэтому эти факторы не влияют на цену.\n",
    "Самая высокая средняя цена за м2 в Санкт-Петерберге. Это может быть обусловленно более высоким уровнем жизни, удобством и инфраструктурой, а так же количеством населения.\n",
    "Большинство квартир продается не более чем за 250 дней(75%  за 223 дня). Из этого можно сделать вывод, что\n",
    "чем меньше времени прошло с момента публикации, тем вероятнее, что квартира будет продана. Особенно это актуально в первые \n",
    "180 дней публикации, где самый высокий показатель продаж. Быстрыми продажами можно считать, продажи в первые 44 дня, а долгими после 223 дня Этим сказано, что спрос на покупку квартиры довольно высок.\n",
    "Первый и последний этаж стоят дешевле других. Это может быть связано с протечками на крыше, сложной комуникацией труб и неработающего лифта или шумом и повышенным вниманием если это первый этаж.\n",
    "Чаще объявления публикуют в начале и в конце года. Это может говорить, о изменении цены на квартиры в конце года или же изменении планов на жизнь самих людей.\n",
    "\n",
    "Оснавная доля объвлений - это: однокомнатные или двухкомнатных квартиры, с общей площадью от 25 до 65 м2, с жилой площадью от 10 до 45 м2, площадью кухни от 5 до 12м2 и этажностью от 5 до  12 этажей.\n"
   ]
  },
  {
   "cell_type": "code",
   "execution_count": null,
   "metadata": {},
   "outputs": [],
   "source": []
  }
 ],
 "metadata": {
  "ExecuteTimeLog": [
   {
    "duration": 537,
    "start_time": "2023-02-09T10:12:08.137Z"
   },
   {
    "duration": 116,
    "start_time": "2023-02-09T10:12:24.069Z"
   },
   {
    "duration": 141,
    "start_time": "2023-02-09T10:12:41.529Z"
   },
   {
    "duration": 109,
    "start_time": "2023-02-09T10:13:26.938Z"
   },
   {
    "duration": 123,
    "start_time": "2023-02-09T10:14:32.480Z"
   },
   {
    "duration": 108,
    "start_time": "2023-02-09T10:14:46.322Z"
   },
   {
    "duration": 538,
    "start_time": "2023-02-09T10:15:00.078Z"
   },
   {
    "duration": 114,
    "start_time": "2023-02-09T10:15:11.417Z"
   },
   {
    "duration": 114,
    "start_time": "2023-02-09T10:15:24.898Z"
   },
   {
    "duration": 142,
    "start_time": "2023-02-09T10:15:50.485Z"
   },
   {
    "duration": 119,
    "start_time": "2023-02-09T10:16:51.672Z"
   },
   {
    "duration": 2590,
    "start_time": "2023-02-09T10:18:16.091Z"
   },
   {
    "duration": 140,
    "start_time": "2023-02-09T10:18:46.777Z"
   },
   {
    "duration": 2080,
    "start_time": "2023-02-09T10:19:01.808Z"
   },
   {
    "duration": 21,
    "start_time": "2023-02-09T10:19:55.397Z"
   },
   {
    "duration": 551,
    "start_time": "2023-02-09T10:20:10.886Z"
   },
   {
    "duration": 17,
    "start_time": "2023-02-09T10:20:11.440Z"
   },
   {
    "duration": 2395,
    "start_time": "2023-02-09T10:20:11.458Z"
   },
   {
    "duration": 48,
    "start_time": "2023-02-16T13:15:17.778Z"
   },
   {
    "duration": 6,
    "start_time": "2023-02-16T13:15:22.729Z"
   },
   {
    "duration": 6,
    "start_time": "2023-02-16T13:15:28.260Z"
   },
   {
    "duration": 598,
    "start_time": "2023-02-16T13:15:41.572Z"
   },
   {
    "duration": 16,
    "start_time": "2023-02-16T13:15:42.172Z"
   },
   {
    "duration": 2541,
    "start_time": "2023-02-16T13:15:42.190Z"
   },
   {
    "duration": 7,
    "start_time": "2023-02-16T13:15:44.733Z"
   },
   {
    "duration": 92,
    "start_time": "2023-02-16T13:17:35.972Z"
   },
   {
    "duration": 10,
    "start_time": "2023-02-16T13:17:48.563Z"
   },
   {
    "duration": 6,
    "start_time": "2023-02-16T13:25:48.406Z"
   },
   {
    "duration": 12,
    "start_time": "2023-02-16T13:25:57.667Z"
   },
   {
    "duration": 6,
    "start_time": "2023-02-16T13:26:01.954Z"
   },
   {
    "duration": 5,
    "start_time": "2023-02-16T13:26:28.040Z"
   },
   {
    "duration": 5,
    "start_time": "2023-02-16T13:26:49.337Z"
   },
   {
    "duration": 7,
    "start_time": "2023-02-16T13:27:08.875Z"
   },
   {
    "duration": 5,
    "start_time": "2023-02-16T13:29:34.311Z"
   },
   {
    "duration": 7,
    "start_time": "2023-02-16T13:29:47.372Z"
   },
   {
    "duration": 8,
    "start_time": "2023-02-16T13:30:41.941Z"
   },
   {
    "duration": 8,
    "start_time": "2023-02-16T13:31:00.360Z"
   },
   {
    "duration": 569,
    "start_time": "2023-02-16T13:31:08.366Z"
   },
   {
    "duration": 20,
    "start_time": "2023-02-16T13:31:08.939Z"
   },
   {
    "duration": 2477,
    "start_time": "2023-02-16T13:31:08.962Z"
   },
   {
    "duration": 8,
    "start_time": "2023-02-16T13:31:11.442Z"
   },
   {
    "duration": 7,
    "start_time": "2023-02-16T13:31:18.552Z"
   },
   {
    "duration": 104,
    "start_time": "2023-02-16T13:32:10.624Z"
   },
   {
    "duration": 20,
    "start_time": "2023-02-16T13:33:34.038Z"
   },
   {
    "duration": 19,
    "start_time": "2023-02-16T13:33:34.962Z"
   },
   {
    "duration": 7,
    "start_time": "2023-02-16T13:34:40.323Z"
   },
   {
    "duration": 9,
    "start_time": "2023-02-16T13:36:31.978Z"
   },
   {
    "duration": 2,
    "start_time": "2023-02-16T13:44:11.224Z"
   },
   {
    "duration": 3,
    "start_time": "2023-02-16T13:44:13.671Z"
   },
   {
    "duration": 3,
    "start_time": "2023-02-16T13:44:16.398Z"
   },
   {
    "duration": 3,
    "start_time": "2023-02-16T13:44:50.832Z"
   },
   {
    "duration": 10,
    "start_time": "2023-02-16T13:57:16.054Z"
   },
   {
    "duration": 8,
    "start_time": "2023-02-16T13:57:35.146Z"
   },
   {
    "duration": 9,
    "start_time": "2023-02-16T13:57:48.344Z"
   },
   {
    "duration": 10,
    "start_time": "2023-02-16T13:58:01.704Z"
   },
   {
    "duration": 8,
    "start_time": "2023-02-16T13:58:46.801Z"
   },
   {
    "duration": 10,
    "start_time": "2023-02-16T13:59:16.465Z"
   },
   {
    "duration": 25,
    "start_time": "2023-02-16T13:59:20.521Z"
   },
   {
    "duration": 16,
    "start_time": "2023-02-16T13:59:29.979Z"
   },
   {
    "duration": 15,
    "start_time": "2023-02-16T13:59:51.801Z"
   },
   {
    "duration": 553,
    "start_time": "2023-02-16T14:00:07.712Z"
   },
   {
    "duration": 15,
    "start_time": "2023-02-16T14:00:08.267Z"
   },
   {
    "duration": 2352,
    "start_time": "2023-02-16T14:00:08.283Z"
   },
   {
    "duration": 18,
    "start_time": "2023-02-16T14:00:10.637Z"
   },
   {
    "duration": 15,
    "start_time": "2023-02-16T14:00:28.260Z"
   },
   {
    "duration": 9,
    "start_time": "2023-02-16T14:00:40.501Z"
   },
   {
    "duration": 15,
    "start_time": "2023-02-16T14:00:59.883Z"
   },
   {
    "duration": 7,
    "start_time": "2023-02-16T14:01:16.806Z"
   },
   {
    "duration": 16,
    "start_time": "2023-02-16T14:02:56.738Z"
   },
   {
    "duration": 20,
    "start_time": "2023-02-16T14:03:06.539Z"
   },
   {
    "duration": 15,
    "start_time": "2023-02-16T14:03:09.737Z"
   },
   {
    "duration": 39,
    "start_time": "2023-02-16T14:03:38.558Z"
   },
   {
    "duration": 16,
    "start_time": "2023-02-16T14:06:43.313Z"
   },
   {
    "duration": 15,
    "start_time": "2023-02-16T14:06:48.923Z"
   },
   {
    "duration": 16,
    "start_time": "2023-02-16T14:06:50.067Z"
   },
   {
    "duration": 503,
    "start_time": "2023-02-16T14:06:57.751Z"
   },
   {
    "duration": 14,
    "start_time": "2023-02-16T14:06:58.256Z"
   },
   {
    "duration": 2351,
    "start_time": "2023-02-16T14:06:58.272Z"
   },
   {
    "duration": 64,
    "start_time": "2023-02-16T14:07:00.626Z"
   },
   {
    "duration": 17,
    "start_time": "2023-02-16T14:07:44.010Z"
   },
   {
    "duration": 54,
    "start_time": "2023-02-16T14:07:55.363Z"
   },
   {
    "duration": 53,
    "start_time": "2023-02-16T14:09:58.033Z"
   },
   {
    "duration": 51,
    "start_time": "2023-02-16T14:10:07.768Z"
   },
   {
    "duration": 48,
    "start_time": "2023-02-16T14:10:46.428Z"
   },
   {
    "duration": 43,
    "start_time": "2023-02-16T14:10:59.361Z"
   },
   {
    "duration": 113,
    "start_time": "2023-02-16T14:12:16.135Z"
   },
   {
    "duration": 42,
    "start_time": "2023-02-16T14:12:25.085Z"
   },
   {
    "duration": 62,
    "start_time": "2023-02-16T14:12:35.778Z"
   },
   {
    "duration": 13,
    "start_time": "2023-02-16T14:13:45.424Z"
   },
   {
    "duration": 7,
    "start_time": "2023-02-16T14:13:52.873Z"
   },
   {
    "duration": 51,
    "start_time": "2023-02-16T14:16:38.474Z"
   },
   {
    "duration": 7,
    "start_time": "2023-02-16T14:17:02.457Z"
   },
   {
    "duration": 7,
    "start_time": "2023-02-16T14:19:06.044Z"
   },
   {
    "duration": 8,
    "start_time": "2023-02-16T14:21:15.447Z"
   },
   {
    "duration": 14,
    "start_time": "2023-02-16T14:22:35.582Z"
   },
   {
    "duration": 7,
    "start_time": "2023-02-16T14:23:55.014Z"
   },
   {
    "duration": 38,
    "start_time": "2023-02-16T14:24:57.348Z"
   },
   {
    "duration": 40,
    "start_time": "2023-02-16T14:26:18.567Z"
   },
   {
    "duration": 47,
    "start_time": "2023-02-16T14:26:35.264Z"
   },
   {
    "duration": 39,
    "start_time": "2023-02-16T14:28:16.499Z"
   },
   {
    "duration": 53,
    "start_time": "2023-02-16T14:28:28.671Z"
   },
   {
    "duration": 10,
    "start_time": "2023-02-16T14:30:00.984Z"
   },
   {
    "duration": 8,
    "start_time": "2023-02-16T14:30:16.665Z"
   },
   {
    "duration": 9,
    "start_time": "2023-02-16T14:30:18.264Z"
   },
   {
    "duration": 8,
    "start_time": "2023-02-16T14:41:45.719Z"
   },
   {
    "duration": 8,
    "start_time": "2023-02-16T14:41:51.368Z"
   },
   {
    "duration": 8,
    "start_time": "2023-02-16T14:42:11.068Z"
   },
   {
    "duration": 38,
    "start_time": "2023-02-16T14:43:57.538Z"
   },
   {
    "duration": 49,
    "start_time": "2023-02-16T14:44:08.133Z"
   },
   {
    "duration": 35,
    "start_time": "2023-02-16T14:44:19.086Z"
   },
   {
    "duration": 548,
    "start_time": "2023-02-16T14:45:24.509Z"
   },
   {
    "duration": 20,
    "start_time": "2023-02-16T14:45:25.059Z"
   },
   {
    "duration": 2402,
    "start_time": "2023-02-16T14:45:25.085Z"
   },
   {
    "duration": 32,
    "start_time": "2023-02-16T14:45:27.490Z"
   },
   {
    "duration": 35,
    "start_time": "2023-02-16T14:45:31.577Z"
   },
   {
    "duration": 35,
    "start_time": "2023-02-16T14:56:11.442Z"
   },
   {
    "duration": 34,
    "start_time": "2023-02-16T15:02:57.825Z"
   },
   {
    "duration": 35,
    "start_time": "2023-02-16T15:05:43.544Z"
   },
   {
    "duration": 37,
    "start_time": "2023-02-16T15:05:59.494Z"
   },
   {
    "duration": 96,
    "start_time": "2023-02-16T15:06:44.665Z"
   },
   {
    "duration": 30,
    "start_time": "2023-02-16T15:06:55.142Z"
   },
   {
    "duration": 105,
    "start_time": "2023-02-16T15:08:16.098Z"
   },
   {
    "duration": 36,
    "start_time": "2023-02-16T15:08:19.894Z"
   },
   {
    "duration": 36,
    "start_time": "2023-02-16T15:10:03.993Z"
   },
   {
    "duration": 38,
    "start_time": "2023-02-16T15:15:17.410Z"
   },
   {
    "duration": 38,
    "start_time": "2023-02-16T15:15:31.581Z"
   },
   {
    "duration": 1280,
    "start_time": "2023-02-16T15:18:10.900Z"
   },
   {
    "duration": 1292,
    "start_time": "2023-02-16T15:18:16.082Z"
   },
   {
    "duration": 0,
    "start_time": "2023-02-16T15:19:28.483Z"
   },
   {
    "duration": 1222,
    "start_time": "2023-02-16T15:19:31.402Z"
   },
   {
    "duration": 1242,
    "start_time": "2023-02-16T15:19:56.402Z"
   },
   {
    "duration": 1365,
    "start_time": "2023-02-16T15:20:29.978Z"
   },
   {
    "duration": 1292,
    "start_time": "2023-02-16T15:23:22.281Z"
   },
   {
    "duration": 1240,
    "start_time": "2023-02-16T15:23:35.854Z"
   },
   {
    "duration": 1245,
    "start_time": "2023-02-16T15:24:04.201Z"
   },
   {
    "duration": 505,
    "start_time": "2023-02-16T15:24:09.650Z"
   },
   {
    "duration": 15,
    "start_time": "2023-02-16T15:24:10.158Z"
   },
   {
    "duration": 2376,
    "start_time": "2023-02-16T15:24:10.175Z"
   },
   {
    "duration": 49,
    "start_time": "2023-02-16T15:24:12.553Z"
   },
   {
    "duration": 42,
    "start_time": "2023-02-16T15:24:20.835Z"
   },
   {
    "duration": 40,
    "start_time": "2023-02-16T15:24:29.203Z"
   },
   {
    "duration": 39,
    "start_time": "2023-02-16T15:26:58.838Z"
   },
   {
    "duration": 583,
    "start_time": "2023-02-16T15:27:04.208Z"
   },
   {
    "duration": 15,
    "start_time": "2023-02-16T15:27:04.793Z"
   },
   {
    "duration": 2325,
    "start_time": "2023-02-16T15:27:04.810Z"
   },
   {
    "duration": 51,
    "start_time": "2023-02-16T15:27:07.137Z"
   },
   {
    "duration": 44,
    "start_time": "2023-02-16T15:28:12.663Z"
   },
   {
    "duration": 44,
    "start_time": "2023-02-16T15:28:27.008Z"
   },
   {
    "duration": 102,
    "start_time": "2023-02-16T15:28:55.657Z"
   },
   {
    "duration": 45,
    "start_time": "2023-02-16T15:29:17.821Z"
   },
   {
    "duration": 48,
    "start_time": "2023-02-16T15:39:05.062Z"
   },
   {
    "duration": 29,
    "start_time": "2023-02-16T15:39:10.874Z"
   },
   {
    "duration": 41,
    "start_time": "2023-02-16T15:40:15.643Z"
   },
   {
    "duration": 39,
    "start_time": "2023-02-16T15:40:57.798Z"
   },
   {
    "duration": 1729,
    "start_time": "2023-02-16T15:57:45.512Z"
   },
   {
    "duration": 59,
    "start_time": "2023-02-16T15:58:11.893Z"
   },
   {
    "duration": 68,
    "start_time": "2023-02-16T15:58:29.922Z"
   },
   {
    "duration": 9,
    "start_time": "2023-02-16T16:14:37.600Z"
   },
   {
    "duration": 8,
    "start_time": "2023-02-16T16:14:52.814Z"
   },
   {
    "duration": 8,
    "start_time": "2023-02-16T16:15:03.336Z"
   },
   {
    "duration": 18,
    "start_time": "2023-02-16T16:16:16.624Z"
   },
   {
    "duration": 8,
    "start_time": "2023-02-16T16:19:13.182Z"
   },
   {
    "duration": 21,
    "start_time": "2023-02-16T16:19:20.998Z"
   },
   {
    "duration": 22,
    "start_time": "2023-02-16T16:19:58.846Z"
   },
   {
    "duration": 24,
    "start_time": "2023-02-16T16:22:47.877Z"
   },
   {
    "duration": 16,
    "start_time": "2023-02-16T16:22:56.190Z"
   },
   {
    "duration": 28,
    "start_time": "2023-02-16T16:23:16.840Z"
   },
   {
    "duration": 20,
    "start_time": "2023-02-16T16:23:22.003Z"
   },
   {
    "duration": 50,
    "start_time": "2023-02-16T16:24:26.028Z"
   },
   {
    "duration": 15,
    "start_time": "2023-02-16T16:25:28.491Z"
   },
   {
    "duration": 46,
    "start_time": "2023-02-16T16:26:25.669Z"
   },
   {
    "duration": 138,
    "start_time": "2023-02-16T16:29:15.286Z"
   },
   {
    "duration": 102,
    "start_time": "2023-02-16T16:29:28.653Z"
   },
   {
    "duration": 900,
    "start_time": "2023-02-16T16:31:22.640Z"
   },
   {
    "duration": 848,
    "start_time": "2023-02-16T16:31:32.799Z"
   },
   {
    "duration": 824,
    "start_time": "2023-02-16T16:31:58.220Z"
   },
   {
    "duration": 55,
    "start_time": "2023-02-16T16:32:16.856Z"
   },
   {
    "duration": 29,
    "start_time": "2023-02-16T16:33:40.951Z"
   },
   {
    "duration": 99,
    "start_time": "2023-02-16T16:34:34.635Z"
   },
   {
    "duration": 20,
    "start_time": "2023-02-16T16:34:39.559Z"
   },
   {
    "duration": 19,
    "start_time": "2023-02-16T16:34:50.433Z"
   },
   {
    "duration": 22,
    "start_time": "2023-02-16T16:34:55.425Z"
   },
   {
    "duration": 80,
    "start_time": "2023-02-16T16:38:29.868Z"
   },
   {
    "duration": 48,
    "start_time": "2023-02-16T16:44:18.507Z"
   },
   {
    "duration": 12,
    "start_time": "2023-02-16T16:46:15.949Z"
   },
   {
    "duration": 5,
    "start_time": "2023-02-16T16:48:24.615Z"
   },
   {
    "duration": 42,
    "start_time": "2023-02-16T16:48:37.034Z"
   },
   {
    "duration": 45,
    "start_time": "2023-02-16T16:49:09.356Z"
   },
   {
    "duration": 59,
    "start_time": "2023-02-16T16:49:41.710Z"
   },
   {
    "duration": 5,
    "start_time": "2023-02-16T16:50:29.613Z"
   },
   {
    "duration": 7,
    "start_time": "2023-02-16T16:51:09.293Z"
   },
   {
    "duration": 31,
    "start_time": "2023-02-16T17:01:13.984Z"
   },
   {
    "duration": 7,
    "start_time": "2023-02-16T17:01:24.511Z"
   },
   {
    "duration": 7,
    "start_time": "2023-02-16T17:01:41.305Z"
   },
   {
    "duration": 14,
    "start_time": "2023-02-16T17:03:52.803Z"
   },
   {
    "duration": 135,
    "start_time": "2023-02-16T17:16:52.599Z"
   },
   {
    "duration": 138,
    "start_time": "2023-02-16T17:17:27.211Z"
   },
   {
    "duration": 140,
    "start_time": "2023-02-16T17:18:09.060Z"
   },
   {
    "duration": 165,
    "start_time": "2023-02-16T17:18:46.534Z"
   },
   {
    "duration": 171,
    "start_time": "2023-02-16T17:19:10.061Z"
   },
   {
    "duration": 199,
    "start_time": "2023-02-16T17:19:47.390Z"
   },
   {
    "duration": 166,
    "start_time": "2023-02-16T17:20:17.758Z"
   },
   {
    "duration": 158,
    "start_time": "2023-02-16T17:20:33.740Z"
   },
   {
    "duration": 177,
    "start_time": "2023-02-16T17:21:39.453Z"
   },
   {
    "duration": 218,
    "start_time": "2023-02-16T17:21:56.262Z"
   },
   {
    "duration": 182,
    "start_time": "2023-02-16T17:23:05.002Z"
   },
   {
    "duration": 217,
    "start_time": "2023-02-16T17:23:13.590Z"
   },
   {
    "duration": 558,
    "start_time": "2023-02-16T17:24:17.304Z"
   },
   {
    "duration": 17,
    "start_time": "2023-02-16T17:24:17.864Z"
   },
   {
    "duration": 2533,
    "start_time": "2023-02-16T17:24:17.886Z"
   },
   {
    "duration": 88,
    "start_time": "2023-02-16T17:24:20.422Z"
   },
   {
    "duration": 41,
    "start_time": "2023-02-16T17:24:20.514Z"
   },
   {
    "duration": 5,
    "start_time": "2023-02-16T17:24:20.557Z"
   },
   {
    "duration": 227,
    "start_time": "2023-02-16T17:24:20.564Z"
   },
   {
    "duration": 196,
    "start_time": "2023-02-16T17:24:22.833Z"
   },
   {
    "duration": 201,
    "start_time": "2023-02-16T17:24:55.333Z"
   },
   {
    "duration": 212,
    "start_time": "2023-02-16T17:25:02.855Z"
   },
   {
    "duration": 184,
    "start_time": "2023-02-16T17:25:17.145Z"
   },
   {
    "duration": 6,
    "start_time": "2023-02-16T17:26:13.528Z"
   },
   {
    "duration": 72,
    "start_time": "2023-02-16T17:26:44.881Z"
   },
   {
    "duration": 8,
    "start_time": "2023-02-16T17:26:54.541Z"
   },
   {
    "duration": 7,
    "start_time": "2023-02-16T17:27:03.799Z"
   },
   {
    "duration": 1604,
    "start_time": "2023-02-16T17:28:03.483Z"
   },
   {
    "duration": 1719,
    "start_time": "2023-02-16T17:28:16.644Z"
   },
   {
    "duration": 1606,
    "start_time": "2023-02-16T17:28:23.856Z"
   },
   {
    "duration": 1668,
    "start_time": "2023-02-16T17:28:38.158Z"
   },
   {
    "duration": 2455,
    "start_time": "2023-02-16T17:29:58.736Z"
   },
   {
    "duration": 107,
    "start_time": "2023-02-16T17:32:37.742Z"
   },
   {
    "duration": 103,
    "start_time": "2023-02-16T17:32:44.233Z"
   },
   {
    "duration": 96,
    "start_time": "2023-02-16T17:33:13.065Z"
   },
   {
    "duration": 1604,
    "start_time": "2023-02-16T17:33:18.085Z"
   },
   {
    "duration": 12,
    "start_time": "2023-02-16T17:34:55.569Z"
   },
   {
    "duration": 4,
    "start_time": "2023-02-16T17:39:23.240Z"
   },
   {
    "duration": 6,
    "start_time": "2023-02-16T17:39:35.413Z"
   },
   {
    "duration": 6,
    "start_time": "2023-02-16T17:39:49.690Z"
   },
   {
    "duration": 6,
    "start_time": "2023-02-16T17:39:50.970Z"
   },
   {
    "duration": 6,
    "start_time": "2023-02-16T17:39:52.031Z"
   },
   {
    "duration": 15,
    "start_time": "2023-02-16T17:39:57.460Z"
   },
   {
    "duration": 9,
    "start_time": "2023-02-16T17:39:59.728Z"
   },
   {
    "duration": 8,
    "start_time": "2023-02-16T17:40:08.546Z"
   },
   {
    "duration": 8,
    "start_time": "2023-02-16T17:40:27.250Z"
   },
   {
    "duration": 540,
    "start_time": "2023-02-16T17:40:33.337Z"
   },
   {
    "duration": 15,
    "start_time": "2023-02-16T17:40:33.879Z"
   },
   {
    "duration": 2359,
    "start_time": "2023-02-16T17:40:33.896Z"
   },
   {
    "duration": 82,
    "start_time": "2023-02-16T17:40:36.258Z"
   },
   {
    "duration": 27,
    "start_time": "2023-02-16T17:40:36.342Z"
   },
   {
    "duration": 5,
    "start_time": "2023-02-16T17:40:36.371Z"
   },
   {
    "duration": 209,
    "start_time": "2023-02-16T17:40:36.378Z"
   },
   {
    "duration": 93,
    "start_time": "2023-02-16T17:40:36.588Z"
   },
   {
    "duration": 20,
    "start_time": "2023-02-16T17:40:37.029Z"
   },
   {
    "duration": 19,
    "start_time": "2023-02-16T17:40:45.911Z"
   },
   {
    "duration": 23,
    "start_time": "2023-02-16T17:40:50.163Z"
   },
   {
    "duration": 68,
    "start_time": "2023-02-17T10:44:19.158Z"
   },
   {
    "duration": 6,
    "start_time": "2023-02-17T10:44:34.701Z"
   },
   {
    "duration": 583,
    "start_time": "2023-02-17T10:44:41.850Z"
   },
   {
    "duration": 15,
    "start_time": "2023-02-17T10:44:42.435Z"
   },
   {
    "duration": 2440,
    "start_time": "2023-02-17T10:44:42.452Z"
   },
   {
    "duration": 67,
    "start_time": "2023-02-17T10:44:44.894Z"
   },
   {
    "duration": 25,
    "start_time": "2023-02-17T10:44:44.964Z"
   },
   {
    "duration": 4,
    "start_time": "2023-02-17T10:44:44.990Z"
   },
   {
    "duration": 236,
    "start_time": "2023-02-17T10:44:44.996Z"
   },
   {
    "duration": 87,
    "start_time": "2023-02-17T10:44:45.233Z"
   },
   {
    "duration": 45,
    "start_time": "2023-02-17T10:44:45.322Z"
   },
   {
    "duration": 29,
    "start_time": "2023-02-17T10:44:45.431Z"
   },
   {
    "duration": 246,
    "start_time": "2023-02-17T10:45:05.350Z"
   },
   {
    "duration": 18,
    "start_time": "2023-02-17T10:48:01.425Z"
   },
   {
    "duration": 110,
    "start_time": "2023-02-17T10:49:30.940Z"
   },
   {
    "duration": 20,
    "start_time": "2023-02-17T10:49:44.352Z"
   },
   {
    "duration": 16,
    "start_time": "2023-02-17T10:49:56.142Z"
   },
   {
    "duration": 12,
    "start_time": "2023-02-17T10:52:11.979Z"
   },
   {
    "duration": 12,
    "start_time": "2023-02-17T10:53:43.217Z"
   },
   {
    "duration": 1796,
    "start_time": "2023-02-17T10:54:08.370Z"
   },
   {
    "duration": 0,
    "start_time": "2023-02-17T10:54:10.168Z"
   },
   {
    "duration": 0,
    "start_time": "2023-02-17T10:54:10.169Z"
   },
   {
    "duration": 183,
    "start_time": "2023-02-17T10:54:10.194Z"
   },
   {
    "duration": 11,
    "start_time": "2023-02-17T10:54:10.942Z"
   },
   {
    "duration": 522,
    "start_time": "2023-02-17T10:54:21.799Z"
   },
   {
    "duration": 14,
    "start_time": "2023-02-17T10:54:22.323Z"
   },
   {
    "duration": 2086,
    "start_time": "2023-02-17T10:54:22.338Z"
   },
   {
    "duration": 56,
    "start_time": "2023-02-17T10:54:24.426Z"
   },
   {
    "duration": 19,
    "start_time": "2023-02-17T10:54:24.485Z"
   },
   {
    "duration": 5,
    "start_time": "2023-02-17T10:54:24.505Z"
   },
   {
    "duration": 198,
    "start_time": "2023-02-17T10:54:24.512Z"
   },
   {
    "duration": 15,
    "start_time": "2023-02-17T10:54:24.711Z"
   },
   {
    "duration": 13,
    "start_time": "2023-02-17T10:54:29.045Z"
   },
   {
    "duration": 7,
    "start_time": "2023-02-17T10:55:11.133Z"
   },
   {
    "duration": 6,
    "start_time": "2023-02-17T10:55:12.919Z"
   },
   {
    "duration": 10,
    "start_time": "2023-02-17T10:59:27.620Z"
   },
   {
    "duration": 6,
    "start_time": "2023-02-17T11:01:04.741Z"
   },
   {
    "duration": 5,
    "start_time": "2023-02-17T11:01:29.789Z"
   },
   {
    "duration": 5,
    "start_time": "2023-02-17T11:01:45.842Z"
   },
   {
    "duration": 6,
    "start_time": "2023-02-17T11:02:00.589Z"
   },
   {
    "duration": 8,
    "start_time": "2023-02-17T11:03:49.611Z"
   },
   {
    "duration": 11,
    "start_time": "2023-02-17T11:04:53.174Z"
   },
   {
    "duration": 3,
    "start_time": "2023-02-17T11:05:29.265Z"
   },
   {
    "duration": 10,
    "start_time": "2023-02-17T11:05:49.714Z"
   },
   {
    "duration": 14,
    "start_time": "2023-02-17T11:06:06.579Z"
   },
   {
    "duration": 9,
    "start_time": "2023-02-17T11:07:23.352Z"
   },
   {
    "duration": 8,
    "start_time": "2023-02-17T11:07:45.413Z"
   },
   {
    "duration": 9,
    "start_time": "2023-02-17T11:08:02.114Z"
   },
   {
    "duration": 3,
    "start_time": "2023-02-17T11:08:15.386Z"
   },
   {
    "duration": 5,
    "start_time": "2023-02-17T11:08:20.057Z"
   },
   {
    "duration": 5,
    "start_time": "2023-02-17T11:08:31.170Z"
   },
   {
    "duration": 114,
    "start_time": "2023-02-17T11:11:18.914Z"
   },
   {
    "duration": 87,
    "start_time": "2023-02-17T11:12:03.246Z"
   },
   {
    "duration": 106,
    "start_time": "2023-02-17T11:12:21.462Z"
   },
   {
    "duration": 135,
    "start_time": "2023-02-17T11:15:17.004Z"
   },
   {
    "duration": 105,
    "start_time": "2023-02-17T11:15:21.896Z"
   },
   {
    "duration": 109,
    "start_time": "2023-02-17T11:17:31.758Z"
   },
   {
    "duration": 131,
    "start_time": "2023-02-17T11:20:06.268Z"
   },
   {
    "duration": 186,
    "start_time": "2023-02-17T11:22:40.038Z"
   },
   {
    "duration": 5081,
    "start_time": "2023-02-17T11:23:23.732Z"
   },
   {
    "duration": 106,
    "start_time": "2023-02-17T11:23:42.160Z"
   },
   {
    "duration": 527,
    "start_time": "2023-02-17T11:23:57.772Z"
   },
   {
    "duration": 15,
    "start_time": "2023-02-17T11:23:58.300Z"
   },
   {
    "duration": 2028,
    "start_time": "2023-02-17T11:23:58.316Z"
   },
   {
    "duration": 55,
    "start_time": "2023-02-17T11:24:00.346Z"
   },
   {
    "duration": 90,
    "start_time": "2023-02-17T11:24:00.404Z"
   },
   {
    "duration": 0,
    "start_time": "2023-02-17T11:24:00.496Z"
   },
   {
    "duration": 0,
    "start_time": "2023-02-17T11:24:00.497Z"
   },
   {
    "duration": 0,
    "start_time": "2023-02-17T11:24:00.498Z"
   },
   {
    "duration": 0,
    "start_time": "2023-02-17T11:24:00.510Z"
   },
   {
    "duration": 20,
    "start_time": "2023-02-17T11:24:07.122Z"
   },
   {
    "duration": 52,
    "start_time": "2023-02-17T11:24:47.582Z"
   },
   {
    "duration": 660,
    "start_time": "2023-02-17T11:24:52.489Z"
   },
   {
    "duration": 17,
    "start_time": "2023-02-17T11:24:53.151Z"
   },
   {
    "duration": 2075,
    "start_time": "2023-02-17T11:24:53.169Z"
   },
   {
    "duration": 62,
    "start_time": "2023-02-17T11:24:55.246Z"
   },
   {
    "duration": 24,
    "start_time": "2023-02-17T11:24:55.310Z"
   },
   {
    "duration": 5,
    "start_time": "2023-02-17T11:24:55.335Z"
   },
   {
    "duration": 205,
    "start_time": "2023-02-17T11:24:55.342Z"
   },
   {
    "duration": 11,
    "start_time": "2023-02-17T11:24:55.548Z"
   },
   {
    "duration": 175,
    "start_time": "2023-02-17T11:24:55.561Z"
   },
   {
    "duration": 118,
    "start_time": "2023-02-17T11:25:26.466Z"
   },
   {
    "duration": 133,
    "start_time": "2023-02-17T11:25:55.393Z"
   },
   {
    "duration": 117,
    "start_time": "2023-02-17T11:26:04.289Z"
   },
   {
    "duration": 123,
    "start_time": "2023-02-17T11:26:07.416Z"
   },
   {
    "duration": 7,
    "start_time": "2023-02-17T11:26:08.979Z"
   },
   {
    "duration": 123,
    "start_time": "2023-02-17T11:26:09.364Z"
   },
   {
    "duration": 499,
    "start_time": "2023-02-17T11:26:17.146Z"
   },
   {
    "duration": 14,
    "start_time": "2023-02-17T11:26:17.647Z"
   },
   {
    "duration": 2077,
    "start_time": "2023-02-17T11:26:17.663Z"
   },
   {
    "duration": 62,
    "start_time": "2023-02-17T11:26:19.742Z"
   },
   {
    "duration": 22,
    "start_time": "2023-02-17T11:26:19.806Z"
   },
   {
    "duration": 4,
    "start_time": "2023-02-17T11:26:19.830Z"
   },
   {
    "duration": 208,
    "start_time": "2023-02-17T11:26:19.835Z"
   },
   {
    "duration": 11,
    "start_time": "2023-02-17T11:26:20.044Z"
   },
   {
    "duration": 120,
    "start_time": "2023-02-17T11:26:20.056Z"
   },
   {
    "duration": 113,
    "start_time": "2023-02-17T11:26:20.397Z"
   },
   {
    "duration": 174,
    "start_time": "2023-02-17T11:26:28.769Z"
   },
   {
    "duration": 118,
    "start_time": "2023-02-17T11:26:31.132Z"
   },
   {
    "duration": 5,
    "start_time": "2023-02-17T11:28:06.849Z"
   },
   {
    "duration": 121,
    "start_time": "2023-02-17T11:28:11.139Z"
   },
   {
    "duration": 134,
    "start_time": "2023-02-17T11:30:07.981Z"
   },
   {
    "duration": 191,
    "start_time": "2023-02-17T11:30:41.601Z"
   },
   {
    "duration": 109,
    "start_time": "2023-02-17T11:30:45.601Z"
   },
   {
    "duration": 127,
    "start_time": "2023-02-17T11:30:57.349Z"
   },
   {
    "duration": 122,
    "start_time": "2023-02-17T11:33:39.725Z"
   },
   {
    "duration": 102,
    "start_time": "2023-02-17T11:34:07.714Z"
   },
   {
    "duration": 107,
    "start_time": "2023-02-17T11:35:42.723Z"
   },
   {
    "duration": 113,
    "start_time": "2023-02-17T11:36:03.235Z"
   },
   {
    "duration": 100,
    "start_time": "2023-02-17T11:36:44.669Z"
   },
   {
    "duration": 5,
    "start_time": "2023-02-17T11:40:11.854Z"
   },
   {
    "duration": 7,
    "start_time": "2023-02-17T11:40:19.570Z"
   },
   {
    "duration": 99,
    "start_time": "2023-02-17T11:41:34.079Z"
   },
   {
    "duration": 6,
    "start_time": "2023-02-17T11:41:48.325Z"
   },
   {
    "duration": 81,
    "start_time": "2023-02-17T11:51:46.530Z"
   },
   {
    "duration": 12,
    "start_time": "2023-02-17T11:52:36.088Z"
   },
   {
    "duration": 10,
    "start_time": "2023-02-17T11:52:52.945Z"
   },
   {
    "duration": 10,
    "start_time": "2023-02-17T12:02:33.864Z"
   },
   {
    "duration": 11,
    "start_time": "2023-02-17T12:02:56.474Z"
   },
   {
    "duration": 533,
    "start_time": "2023-02-17T12:03:43.496Z"
   },
   {
    "duration": 13,
    "start_time": "2023-02-17T12:03:44.032Z"
   },
   {
    "duration": 2145,
    "start_time": "2023-02-17T12:03:44.047Z"
   },
   {
    "duration": 61,
    "start_time": "2023-02-17T12:03:46.194Z"
   },
   {
    "duration": 24,
    "start_time": "2023-02-17T12:03:46.257Z"
   },
   {
    "duration": 4,
    "start_time": "2023-02-17T12:03:46.283Z"
   },
   {
    "duration": 206,
    "start_time": "2023-02-17T12:03:46.288Z"
   },
   {
    "duration": 21,
    "start_time": "2023-02-17T12:03:46.495Z"
   },
   {
    "duration": 226,
    "start_time": "2023-02-17T12:03:46.518Z"
   },
   {
    "duration": 141,
    "start_time": "2023-02-17T12:03:46.746Z"
   },
   {
    "duration": 55,
    "start_time": "2023-02-17T12:03:46.889Z"
   },
   {
    "duration": 38,
    "start_time": "2023-02-17T12:04:20.976Z"
   },
   {
    "duration": 8,
    "start_time": "2023-02-17T12:05:42.560Z"
   },
   {
    "duration": 43,
    "start_time": "2023-02-17T12:05:46.254Z"
   },
   {
    "duration": 41,
    "start_time": "2023-02-17T12:21:02.543Z"
   },
   {
    "duration": 476,
    "start_time": "2023-02-17T12:28:05.657Z"
   },
   {
    "duration": 487,
    "start_time": "2023-02-17T12:29:06.655Z"
   },
   {
    "duration": 17,
    "start_time": "2023-02-17T12:29:07.143Z"
   },
   {
    "duration": 2079,
    "start_time": "2023-02-17T12:29:07.161Z"
   },
   {
    "duration": 76,
    "start_time": "2023-02-17T12:29:09.242Z"
   },
   {
    "duration": 28,
    "start_time": "2023-02-17T12:29:09.321Z"
   },
   {
    "duration": 4,
    "start_time": "2023-02-17T12:29:09.351Z"
   },
   {
    "duration": 210,
    "start_time": "2023-02-17T12:29:09.357Z"
   },
   {
    "duration": 10,
    "start_time": "2023-02-17T12:29:09.568Z"
   },
   {
    "duration": 182,
    "start_time": "2023-02-17T12:29:09.580Z"
   },
   {
    "duration": 105,
    "start_time": "2023-02-17T12:29:09.763Z"
   },
   {
    "duration": 478,
    "start_time": "2023-02-17T12:29:09.870Z"
   },
   {
    "duration": 438,
    "start_time": "2023-02-17T12:29:42.724Z"
   },
   {
    "duration": 509,
    "start_time": "2023-02-17T12:29:51.210Z"
   },
   {
    "duration": 14,
    "start_time": "2023-02-17T12:29:51.722Z"
   },
   {
    "duration": 2128,
    "start_time": "2023-02-17T12:29:51.740Z"
   },
   {
    "duration": 62,
    "start_time": "2023-02-17T12:29:53.871Z"
   },
   {
    "duration": 23,
    "start_time": "2023-02-17T12:29:53.935Z"
   },
   {
    "duration": 4,
    "start_time": "2023-02-17T12:29:53.960Z"
   },
   {
    "duration": 192,
    "start_time": "2023-02-17T12:29:53.966Z"
   },
   {
    "duration": 10,
    "start_time": "2023-02-17T12:29:54.160Z"
   },
   {
    "duration": 192,
    "start_time": "2023-02-17T12:29:54.171Z"
   },
   {
    "duration": 115,
    "start_time": "2023-02-17T12:29:54.365Z"
   },
   {
    "duration": 620,
    "start_time": "2023-02-17T12:29:54.481Z"
   },
   {
    "duration": 1614,
    "start_time": "2023-02-17T12:33:18.154Z"
   },
   {
    "duration": 4,
    "start_time": "2023-02-17T12:33:19.809Z"
   },
   {
    "duration": 179,
    "start_time": "2023-02-17T12:33:20.520Z"
   },
   {
    "duration": 6,
    "start_time": "2023-02-17T12:33:20.831Z"
   },
   {
    "duration": 112,
    "start_time": "2023-02-17T12:33:21.187Z"
   },
   {
    "duration": 104,
    "start_time": "2023-02-17T12:33:21.529Z"
   },
   {
    "duration": 426,
    "start_time": "2023-02-17T12:33:41.294Z"
   },
   {
    "duration": 112,
    "start_time": "2023-02-17T12:33:48.668Z"
   },
   {
    "duration": 567,
    "start_time": "2023-02-17T12:33:56.783Z"
   },
   {
    "duration": 16,
    "start_time": "2023-02-17T12:33:57.351Z"
   },
   {
    "duration": 2076,
    "start_time": "2023-02-17T12:33:57.368Z"
   },
   {
    "duration": 63,
    "start_time": "2023-02-17T12:33:59.447Z"
   },
   {
    "duration": 27,
    "start_time": "2023-02-17T12:33:59.511Z"
   },
   {
    "duration": 4,
    "start_time": "2023-02-17T12:33:59.540Z"
   },
   {
    "duration": 209,
    "start_time": "2023-02-17T12:33:59.546Z"
   },
   {
    "duration": 12,
    "start_time": "2023-02-17T12:33:59.757Z"
   },
   {
    "duration": 194,
    "start_time": "2023-02-17T12:33:59.771Z"
   },
   {
    "duration": 539,
    "start_time": "2023-02-17T12:33:59.967Z"
   },
   {
    "duration": 1541,
    "start_time": "2023-02-17T12:34:23.310Z"
   },
   {
    "duration": 0,
    "start_time": "2023-02-17T12:34:24.853Z"
   },
   {
    "duration": 235,
    "start_time": "2023-02-17T12:34:24.877Z"
   },
   {
    "duration": 6,
    "start_time": "2023-02-17T12:34:25.930Z"
   },
   {
    "duration": 117,
    "start_time": "2023-02-17T12:34:26.296Z"
   },
   {
    "duration": 529,
    "start_time": "2023-02-17T12:34:39.678Z"
   },
   {
    "duration": 14,
    "start_time": "2023-02-17T12:34:40.209Z"
   },
   {
    "duration": 2099,
    "start_time": "2023-02-17T12:34:40.225Z"
   },
   {
    "duration": 61,
    "start_time": "2023-02-17T12:34:42.327Z"
   },
   {
    "duration": 24,
    "start_time": "2023-02-17T12:34:42.389Z"
   },
   {
    "duration": 4,
    "start_time": "2023-02-17T12:34:42.415Z"
   },
   {
    "duration": 194,
    "start_time": "2023-02-17T12:34:42.420Z"
   },
   {
    "duration": 16,
    "start_time": "2023-02-17T12:34:42.616Z"
   },
   {
    "duration": 241,
    "start_time": "2023-02-17T12:34:42.634Z"
   },
   {
    "duration": 514,
    "start_time": "2023-02-17T12:34:42.877Z"
   },
   {
    "duration": 113,
    "start_time": "2023-02-17T12:35:04.749Z"
   },
   {
    "duration": 485,
    "start_time": "2023-02-17T12:35:18.742Z"
   },
   {
    "duration": 14,
    "start_time": "2023-02-17T12:35:19.229Z"
   },
   {
    "duration": 2100,
    "start_time": "2023-02-17T12:35:19.244Z"
   },
   {
    "duration": 61,
    "start_time": "2023-02-17T12:35:21.347Z"
   },
   {
    "duration": 24,
    "start_time": "2023-02-17T12:35:21.409Z"
   },
   {
    "duration": 4,
    "start_time": "2023-02-17T12:35:21.435Z"
   },
   {
    "duration": 201,
    "start_time": "2023-02-17T12:35:21.440Z"
   },
   {
    "duration": 12,
    "start_time": "2023-02-17T12:35:21.642Z"
   },
   {
    "duration": 193,
    "start_time": "2023-02-17T12:35:21.655Z"
   },
   {
    "duration": 532,
    "start_time": "2023-02-17T12:35:21.850Z"
   },
   {
    "duration": 129,
    "start_time": "2023-02-17T12:36:11.528Z"
   },
   {
    "duration": 112,
    "start_time": "2023-02-17T12:36:18.923Z"
   },
   {
    "duration": 118,
    "start_time": "2023-02-17T12:36:28.715Z"
   },
   {
    "duration": 121,
    "start_time": "2023-02-17T12:36:30.055Z"
   },
   {
    "duration": 6,
    "start_time": "2023-02-17T12:36:30.916Z"
   },
   {
    "duration": 115,
    "start_time": "2023-02-17T12:36:31.334Z"
   },
   {
    "duration": 174,
    "start_time": "2023-02-17T12:36:58.028Z"
   },
   {
    "duration": 531,
    "start_time": "2023-02-17T12:37:02.101Z"
   },
   {
    "duration": 15,
    "start_time": "2023-02-17T12:37:02.634Z"
   },
   {
    "duration": 2142,
    "start_time": "2023-02-17T12:37:02.650Z"
   },
   {
    "duration": 64,
    "start_time": "2023-02-17T12:37:04.794Z"
   },
   {
    "duration": 26,
    "start_time": "2023-02-17T12:37:04.859Z"
   },
   {
    "duration": 5,
    "start_time": "2023-02-17T12:37:04.886Z"
   },
   {
    "duration": 217,
    "start_time": "2023-02-17T12:37:04.892Z"
   },
   {
    "duration": 11,
    "start_time": "2023-02-17T12:37:05.111Z"
   },
   {
    "duration": 716,
    "start_time": "2023-02-17T12:37:05.124Z"
   },
   {
    "duration": 0,
    "start_time": "2023-02-17T12:37:05.841Z"
   },
   {
    "duration": 9,
    "start_time": "2023-02-17T12:37:14.290Z"
   },
   {
    "duration": 10,
    "start_time": "2023-02-17T12:37:17.885Z"
   },
   {
    "duration": 514,
    "start_time": "2023-02-17T12:37:24.518Z"
   },
   {
    "duration": 15,
    "start_time": "2023-02-17T12:37:25.034Z"
   },
   {
    "duration": 2133,
    "start_time": "2023-02-17T12:37:25.051Z"
   },
   {
    "duration": 63,
    "start_time": "2023-02-17T12:37:27.186Z"
   },
   {
    "duration": 25,
    "start_time": "2023-02-17T12:37:27.251Z"
   },
   {
    "duration": 5,
    "start_time": "2023-02-17T12:37:27.277Z"
   },
   {
    "duration": 223,
    "start_time": "2023-02-17T12:37:27.284Z"
   },
   {
    "duration": 11,
    "start_time": "2023-02-17T12:37:27.509Z"
   },
   {
    "duration": 173,
    "start_time": "2023-02-17T12:37:27.522Z"
   },
   {
    "duration": 578,
    "start_time": "2023-02-17T12:37:27.698Z"
   },
   {
    "duration": 415,
    "start_time": "2023-02-17T12:38:48.691Z"
   },
   {
    "duration": 501,
    "start_time": "2023-02-17T12:38:56.265Z"
   },
   {
    "duration": 17,
    "start_time": "2023-02-17T12:38:56.768Z"
   },
   {
    "duration": 2049,
    "start_time": "2023-02-17T12:38:56.787Z"
   },
   {
    "duration": 63,
    "start_time": "2023-02-17T12:38:58.838Z"
   },
   {
    "duration": 23,
    "start_time": "2023-02-17T12:38:58.903Z"
   },
   {
    "duration": 7,
    "start_time": "2023-02-17T12:38:58.928Z"
   },
   {
    "duration": 190,
    "start_time": "2023-02-17T12:38:58.937Z"
   },
   {
    "duration": 11,
    "start_time": "2023-02-17T12:38:59.128Z"
   },
   {
    "duration": 180,
    "start_time": "2023-02-17T12:38:59.141Z"
   },
   {
    "duration": 474,
    "start_time": "2023-02-17T12:38:59.323Z"
   },
   {
    "duration": 379,
    "start_time": "2023-02-17T12:40:51.846Z"
   },
   {
    "duration": 391,
    "start_time": "2023-02-17T12:45:22.389Z"
   },
   {
    "duration": 368,
    "start_time": "2023-02-17T12:45:57.261Z"
   },
   {
    "duration": 1625,
    "start_time": "2023-02-17T12:47:41.428Z"
   },
   {
    "duration": 470,
    "start_time": "2023-02-17T12:47:57.761Z"
   },
   {
    "duration": 16,
    "start_time": "2023-02-17T12:47:58.233Z"
   },
   {
    "duration": 2046,
    "start_time": "2023-02-17T12:47:58.250Z"
   },
   {
    "duration": 65,
    "start_time": "2023-02-17T12:48:00.298Z"
   },
   {
    "duration": 24,
    "start_time": "2023-02-17T12:48:00.366Z"
   },
   {
    "duration": 15,
    "start_time": "2023-02-17T12:48:00.392Z"
   },
   {
    "duration": 198,
    "start_time": "2023-02-17T12:48:00.409Z"
   },
   {
    "duration": 13,
    "start_time": "2023-02-17T12:48:00.609Z"
   },
   {
    "duration": 211,
    "start_time": "2023-02-17T12:48:00.624Z"
   },
   {
    "duration": 435,
    "start_time": "2023-02-17T12:48:00.837Z"
   },
   {
    "duration": 1632,
    "start_time": "2023-02-17T12:48:59.938Z"
   },
   {
    "duration": 396,
    "start_time": "2023-02-17T12:49:38.315Z"
   },
   {
    "duration": 474,
    "start_time": "2023-02-17T12:49:44.349Z"
   },
   {
    "duration": 14,
    "start_time": "2023-02-17T12:49:44.825Z"
   },
   {
    "duration": 2112,
    "start_time": "2023-02-17T12:49:44.840Z"
   },
   {
    "duration": 60,
    "start_time": "2023-02-17T12:49:46.954Z"
   },
   {
    "duration": 24,
    "start_time": "2023-02-17T12:49:47.016Z"
   },
   {
    "duration": 4,
    "start_time": "2023-02-17T12:49:47.041Z"
   },
   {
    "duration": 203,
    "start_time": "2023-02-17T12:49:47.046Z"
   },
   {
    "duration": 11,
    "start_time": "2023-02-17T12:49:47.251Z"
   },
   {
    "duration": 187,
    "start_time": "2023-02-17T12:49:47.263Z"
   },
   {
    "duration": 2056,
    "start_time": "2023-02-17T12:49:47.451Z"
   },
   {
    "duration": 430,
    "start_time": "2023-02-17T12:50:02.907Z"
   },
   {
    "duration": 571,
    "start_time": "2023-02-17T12:50:15.956Z"
   },
   {
    "duration": 13,
    "start_time": "2023-02-17T12:50:16.529Z"
   },
   {
    "duration": 2094,
    "start_time": "2023-02-17T12:50:16.546Z"
   },
   {
    "duration": 59,
    "start_time": "2023-02-17T12:50:18.642Z"
   },
   {
    "duration": 21,
    "start_time": "2023-02-17T12:50:18.703Z"
   },
   {
    "duration": 4,
    "start_time": "2023-02-17T12:50:18.726Z"
   },
   {
    "duration": 189,
    "start_time": "2023-02-17T12:50:18.731Z"
   },
   {
    "duration": 11,
    "start_time": "2023-02-17T12:50:18.921Z"
   },
   {
    "duration": 184,
    "start_time": "2023-02-17T12:50:18.934Z"
   },
   {
    "duration": 431,
    "start_time": "2023-02-17T12:50:19.120Z"
   },
   {
    "duration": 418,
    "start_time": "2023-02-17T12:51:04.804Z"
   },
   {
    "duration": 533,
    "start_time": "2023-02-17T12:51:14.690Z"
   },
   {
    "duration": 16,
    "start_time": "2023-02-17T12:51:15.226Z"
   },
   {
    "duration": 2216,
    "start_time": "2023-02-17T12:51:15.244Z"
   },
   {
    "duration": 65,
    "start_time": "2023-02-17T12:51:17.462Z"
   },
   {
    "duration": 23,
    "start_time": "2023-02-17T12:51:17.529Z"
   },
   {
    "duration": 4,
    "start_time": "2023-02-17T12:51:17.554Z"
   },
   {
    "duration": 204,
    "start_time": "2023-02-17T12:51:17.559Z"
   },
   {
    "duration": 11,
    "start_time": "2023-02-17T12:51:17.764Z"
   },
   {
    "duration": 190,
    "start_time": "2023-02-17T12:51:17.776Z"
   },
   {
    "duration": 361,
    "start_time": "2023-02-17T12:51:17.967Z"
   },
   {
    "duration": 424,
    "start_time": "2023-02-17T12:51:39.190Z"
   },
   {
    "duration": 369,
    "start_time": "2023-02-17T12:51:45.618Z"
   },
   {
    "duration": 378,
    "start_time": "2023-02-17T12:52:27.851Z"
   },
   {
    "duration": 338,
    "start_time": "2023-02-17T12:53:39.377Z"
   },
   {
    "duration": 108,
    "start_time": "2023-02-17T12:55:24.267Z"
   },
   {
    "duration": 7,
    "start_time": "2023-02-17T13:03:10.531Z"
   },
   {
    "duration": 133,
    "start_time": "2023-02-17T13:07:18.975Z"
   },
   {
    "duration": 1901,
    "start_time": "2023-02-17T13:07:24.346Z"
   },
   {
    "duration": 1650,
    "start_time": "2023-02-17T13:08:03.027Z"
   },
   {
    "duration": 48,
    "start_time": "2023-02-17T13:08:16.484Z"
   },
   {
    "duration": 75,
    "start_time": "2023-02-17T13:08:25.188Z"
   },
   {
    "duration": 57,
    "start_time": "2023-02-17T13:08:41.710Z"
   },
   {
    "duration": 14,
    "start_time": "2023-02-17T13:15:05.288Z"
   },
   {
    "duration": 68,
    "start_time": "2023-02-17T13:15:13.950Z"
   },
   {
    "duration": 124,
    "start_time": "2023-02-17T13:19:13.349Z"
   },
   {
    "duration": 2576,
    "start_time": "2023-02-17T13:20:14.678Z"
   },
   {
    "duration": 257,
    "start_time": "2023-02-17T13:29:29.883Z"
   },
   {
    "duration": 514,
    "start_time": "2023-02-17T13:29:35.197Z"
   },
   {
    "duration": 14,
    "start_time": "2023-02-17T13:29:35.713Z"
   },
   {
    "duration": 2131,
    "start_time": "2023-02-17T13:29:35.729Z"
   },
   {
    "duration": 61,
    "start_time": "2023-02-17T13:29:37.862Z"
   },
   {
    "duration": 24,
    "start_time": "2023-02-17T13:29:37.926Z"
   },
   {
    "duration": 4,
    "start_time": "2023-02-17T13:29:37.952Z"
   },
   {
    "duration": 203,
    "start_time": "2023-02-17T13:29:37.957Z"
   },
   {
    "duration": 10,
    "start_time": "2023-02-17T13:29:38.161Z"
   },
   {
    "duration": 52,
    "start_time": "2023-02-17T13:29:38.172Z"
   },
   {
    "duration": 324,
    "start_time": "2023-02-17T13:29:38.226Z"
   },
   {
    "duration": 4,
    "start_time": "2023-02-17T13:29:38.551Z"
   },
   {
    "duration": 16,
    "start_time": "2023-02-17T13:29:59.122Z"
   },
   {
    "duration": 1718,
    "start_time": "2023-02-17T13:32:59.341Z"
   },
   {
    "duration": 1549,
    "start_time": "2023-02-17T13:33:33.441Z"
   },
   {
    "duration": 1663,
    "start_time": "2023-02-17T13:34:35.580Z"
   },
   {
    "duration": 1625,
    "start_time": "2023-02-17T13:42:14.469Z"
   },
   {
    "duration": 7,
    "start_time": "2023-02-17T13:42:45.559Z"
   },
   {
    "duration": 1681,
    "start_time": "2023-02-17T13:43:40.761Z"
   },
   {
    "duration": 283,
    "start_time": "2023-02-17T13:46:46.395Z"
   },
   {
    "duration": 138,
    "start_time": "2023-02-17T13:48:11.985Z"
   },
   {
    "duration": 205,
    "start_time": "2023-02-17T13:48:13.321Z"
   },
   {
    "duration": 163,
    "start_time": "2023-02-17T13:48:15.268Z"
   },
   {
    "duration": 148,
    "start_time": "2023-02-17T13:48:16.805Z"
   },
   {
    "duration": 147,
    "start_time": "2023-02-17T13:48:17.902Z"
   },
   {
    "duration": 123,
    "start_time": "2023-02-17T13:48:19.014Z"
   },
   {
    "duration": 134,
    "start_time": "2023-02-17T13:48:20.193Z"
   },
   {
    "duration": 132,
    "start_time": "2023-02-17T13:48:21.318Z"
   },
   {
    "duration": 143,
    "start_time": "2023-02-17T13:48:22.505Z"
   },
   {
    "duration": 127,
    "start_time": "2023-02-17T13:48:23.648Z"
   },
   {
    "duration": 136,
    "start_time": "2023-02-17T13:48:24.880Z"
   },
   {
    "duration": 123,
    "start_time": "2023-02-17T13:48:26.050Z"
   },
   {
    "duration": 132,
    "start_time": "2023-02-17T13:48:27.492Z"
   },
   {
    "duration": 139,
    "start_time": "2023-02-17T13:48:32.703Z"
   },
   {
    "duration": 203,
    "start_time": "2023-02-17T13:52:21.794Z"
   },
   {
    "duration": 124,
    "start_time": "2023-02-17T13:54:20.204Z"
   },
   {
    "duration": 117,
    "start_time": "2023-02-17T13:54:40.023Z"
   },
   {
    "duration": 127,
    "start_time": "2023-02-17T13:55:57.327Z"
   },
   {
    "duration": 147,
    "start_time": "2023-02-17T14:05:04.525Z"
   },
   {
    "duration": 115,
    "start_time": "2023-02-17T14:05:20.421Z"
   },
   {
    "duration": 241,
    "start_time": "2023-02-17T14:05:34.758Z"
   },
   {
    "duration": 448,
    "start_time": "2023-02-17T14:06:28.493Z"
   },
   {
    "duration": 9,
    "start_time": "2023-02-17T14:08:56.017Z"
   },
   {
    "duration": 2945,
    "start_time": "2023-02-17T14:10:19.280Z"
   },
   {
    "duration": 1547,
    "start_time": "2023-02-17T14:10:57.908Z"
   },
   {
    "duration": 15,
    "start_time": "2023-02-17T14:23:44.425Z"
   },
   {
    "duration": 27,
    "start_time": "2023-02-17T14:24:29.709Z"
   },
   {
    "duration": 24,
    "start_time": "2023-02-17T14:24:45.216Z"
   },
   {
    "duration": 19,
    "start_time": "2023-02-17T14:25:02.717Z"
   },
   {
    "duration": 24,
    "start_time": "2023-02-17T14:25:20.829Z"
   },
   {
    "duration": 18,
    "start_time": "2023-02-17T14:25:36.580Z"
   },
   {
    "duration": 28,
    "start_time": "2023-02-17T14:28:24.366Z"
   },
   {
    "duration": 26,
    "start_time": "2023-02-17T14:29:33.219Z"
   },
   {
    "duration": 27,
    "start_time": "2023-02-17T14:29:51.169Z"
   },
   {
    "duration": 25,
    "start_time": "2023-02-17T14:31:12.535Z"
   },
   {
    "duration": 24,
    "start_time": "2023-02-17T14:31:40.405Z"
   },
   {
    "duration": 25,
    "start_time": "2023-02-17T14:32:12.276Z"
   },
   {
    "duration": 1104,
    "start_time": "2023-02-17T14:35:09.579Z"
   },
   {
    "duration": 23,
    "start_time": "2023-02-17T14:35:15.656Z"
   },
   {
    "duration": 399,
    "start_time": "2023-02-17T14:36:13.621Z"
   },
   {
    "duration": 25,
    "start_time": "2023-02-17T14:36:34.891Z"
   },
   {
    "duration": 11,
    "start_time": "2023-02-17T14:44:53.526Z"
   },
   {
    "duration": 13,
    "start_time": "2023-02-17T14:44:59.222Z"
   },
   {
    "duration": 11,
    "start_time": "2023-02-17T14:45:15.165Z"
   },
   {
    "duration": 228,
    "start_time": "2023-02-17T14:47:39.391Z"
   },
   {
    "duration": 106,
    "start_time": "2023-02-17T14:52:16.206Z"
   },
   {
    "duration": 261,
    "start_time": "2023-02-17T14:52:21.751Z"
   },
   {
    "duration": 13,
    "start_time": "2023-02-17T14:53:16.417Z"
   },
   {
    "duration": 14,
    "start_time": "2023-02-17T14:53:30.876Z"
   },
   {
    "duration": 14,
    "start_time": "2023-02-17T14:53:38.475Z"
   },
   {
    "duration": 14,
    "start_time": "2023-02-17T14:53:41.662Z"
   },
   {
    "duration": 10,
    "start_time": "2023-02-17T14:53:46.493Z"
   },
   {
    "duration": 14,
    "start_time": "2023-02-17T14:53:53.976Z"
   },
   {
    "duration": 247,
    "start_time": "2023-02-17T14:54:10.763Z"
   },
   {
    "duration": 236,
    "start_time": "2023-02-17T14:54:14.421Z"
   },
   {
    "duration": 254,
    "start_time": "2023-02-17T14:54:20.896Z"
   },
   {
    "duration": 252,
    "start_time": "2023-02-17T14:54:29.964Z"
   },
   {
    "duration": 258,
    "start_time": "2023-02-17T14:55:19.547Z"
   },
   {
    "duration": 17,
    "start_time": "2023-02-17T14:59:14.143Z"
   },
   {
    "duration": 14,
    "start_time": "2023-02-17T14:59:24.751Z"
   },
   {
    "duration": 12,
    "start_time": "2023-02-17T15:00:30.291Z"
   },
   {
    "duration": 377,
    "start_time": "2023-02-17T15:00:40.154Z"
   },
   {
    "duration": 266,
    "start_time": "2023-02-17T15:00:53.140Z"
   },
   {
    "duration": 271,
    "start_time": "2023-02-17T15:03:38.623Z"
   },
   {
    "duration": 485,
    "start_time": "2023-02-17T15:03:59.867Z"
   },
   {
    "duration": 15,
    "start_time": "2023-02-17T15:04:00.354Z"
   },
   {
    "duration": 2189,
    "start_time": "2023-02-17T15:04:00.371Z"
   },
   {
    "duration": 63,
    "start_time": "2023-02-17T15:04:02.562Z"
   },
   {
    "duration": 24,
    "start_time": "2023-02-17T15:04:02.628Z"
   },
   {
    "duration": 5,
    "start_time": "2023-02-17T15:04:02.654Z"
   },
   {
    "duration": 218,
    "start_time": "2023-02-17T15:04:02.661Z"
   },
   {
    "duration": 12,
    "start_time": "2023-02-17T15:04:02.881Z"
   },
   {
    "duration": 58,
    "start_time": "2023-02-17T15:04:02.895Z"
   },
   {
    "duration": 389,
    "start_time": "2023-02-17T15:04:02.955Z"
   },
   {
    "duration": 138,
    "start_time": "2023-02-17T15:04:03.345Z"
   },
   {
    "duration": 142,
    "start_time": "2023-02-17T15:04:03.485Z"
   },
   {
    "duration": 144,
    "start_time": "2023-02-17T15:04:03.628Z"
   },
   {
    "duration": 210,
    "start_time": "2023-02-17T15:04:03.774Z"
   },
   {
    "duration": 144,
    "start_time": "2023-02-17T15:04:03.986Z"
   },
   {
    "duration": 151,
    "start_time": "2023-02-17T15:04:04.131Z"
   },
   {
    "duration": 119,
    "start_time": "2023-02-17T15:04:04.284Z"
   },
   {
    "duration": 131,
    "start_time": "2023-02-17T15:04:04.415Z"
   },
   {
    "duration": 159,
    "start_time": "2023-02-17T15:04:04.547Z"
   },
   {
    "duration": 142,
    "start_time": "2023-02-17T15:04:04.708Z"
   },
   {
    "duration": 138,
    "start_time": "2023-02-17T15:04:04.852Z"
   },
   {
    "duration": 156,
    "start_time": "2023-02-17T15:04:04.992Z"
   },
   {
    "duration": 158,
    "start_time": "2023-02-17T15:04:05.150Z"
   },
   {
    "duration": 141,
    "start_time": "2023-02-17T15:04:05.309Z"
   },
   {
    "duration": 127,
    "start_time": "2023-02-17T15:04:05.451Z"
   },
   {
    "duration": 1645,
    "start_time": "2023-02-17T15:04:05.580Z"
   },
   {
    "duration": 30,
    "start_time": "2023-02-17T15:04:07.227Z"
   },
   {
    "duration": 283,
    "start_time": "2023-02-17T15:04:07.258Z"
   },
   {
    "duration": 55,
    "start_time": "2023-02-18T07:57:36.167Z"
   },
   {
    "duration": 17,
    "start_time": "2023-02-18T07:57:38.350Z"
   },
   {
    "duration": 51,
    "start_time": "2023-02-18T07:58:02.977Z"
   },
   {
    "duration": 631,
    "start_time": "2023-02-18T07:58:10.967Z"
   },
   {
    "duration": 17,
    "start_time": "2023-02-18T07:58:11.600Z"
   },
   {
    "duration": 2507,
    "start_time": "2023-02-18T07:58:11.619Z"
   },
   {
    "duration": 76,
    "start_time": "2023-02-18T07:58:18.419Z"
   },
   {
    "duration": 172,
    "start_time": "2023-02-18T08:00:17.098Z"
   },
   {
    "duration": 194,
    "start_time": "2023-02-18T08:03:17.519Z"
   },
   {
    "duration": 153,
    "start_time": "2023-02-18T08:04:41.778Z"
   },
   {
    "duration": 176,
    "start_time": "2023-02-18T08:04:58.108Z"
   },
   {
    "duration": 161,
    "start_time": "2023-02-18T08:07:22.264Z"
   },
   {
    "duration": 0,
    "start_time": "2023-02-18T08:11:41.688Z"
   },
   {
    "duration": 2814,
    "start_time": "2023-02-18T08:11:47.728Z"
   },
   {
    "duration": 490,
    "start_time": "2023-02-18T08:12:21.907Z"
   },
   {
    "duration": 15,
    "start_time": "2023-02-18T08:12:22.399Z"
   },
   {
    "duration": 2331,
    "start_time": "2023-02-18T08:12:22.415Z"
   },
   {
    "duration": 78,
    "start_time": "2023-02-18T08:12:24.748Z"
   },
   {
    "duration": 38,
    "start_time": "2023-02-18T08:12:24.827Z"
   },
   {
    "duration": 5,
    "start_time": "2023-02-18T08:12:24.867Z"
   },
   {
    "duration": 191,
    "start_time": "2023-02-18T08:12:24.873Z"
   },
   {
    "duration": 17,
    "start_time": "2023-02-18T08:12:25.067Z"
   },
   {
    "duration": 51,
    "start_time": "2023-02-18T08:12:25.086Z"
   },
   {
    "duration": 361,
    "start_time": "2023-02-18T08:12:25.140Z"
   },
   {
    "duration": 167,
    "start_time": "2023-02-18T08:12:25.503Z"
   },
   {
    "duration": 148,
    "start_time": "2023-02-18T08:12:25.671Z"
   },
   {
    "duration": 180,
    "start_time": "2023-02-18T08:12:25.820Z"
   },
   {
    "duration": 233,
    "start_time": "2023-02-18T08:12:26.002Z"
   },
   {
    "duration": 182,
    "start_time": "2023-02-18T08:12:26.237Z"
   },
   {
    "duration": 186,
    "start_time": "2023-02-18T08:12:26.422Z"
   },
   {
    "duration": 156,
    "start_time": "2023-02-18T08:12:26.610Z"
   },
   {
    "duration": 129,
    "start_time": "2023-02-18T08:12:26.768Z"
   },
   {
    "duration": 169,
    "start_time": "2023-02-18T08:12:26.899Z"
   },
   {
    "duration": 142,
    "start_time": "2023-02-18T08:12:27.070Z"
   },
   {
    "duration": 154,
    "start_time": "2023-02-18T08:12:27.214Z"
   },
   {
    "duration": 200,
    "start_time": "2023-02-18T08:12:27.369Z"
   },
   {
    "duration": 208,
    "start_time": "2023-02-18T08:12:27.571Z"
   },
   {
    "duration": 157,
    "start_time": "2023-02-18T08:12:27.781Z"
   },
   {
    "duration": 153,
    "start_time": "2023-02-18T08:12:27.940Z"
   },
   {
    "duration": 1724,
    "start_time": "2023-02-18T08:12:28.094Z"
   },
   {
    "duration": 48,
    "start_time": "2023-02-18T08:12:29.819Z"
   },
   {
    "duration": 297,
    "start_time": "2023-02-18T08:12:29.870Z"
   },
   {
    "duration": 21,
    "start_time": "2023-02-18T09:54:38.213Z"
   },
   {
    "duration": 17,
    "start_time": "2023-02-18T09:54:45.455Z"
   },
   {
    "duration": 503,
    "start_time": "2023-02-18T10:42:18.425Z"
   },
   {
    "duration": 13,
    "start_time": "2023-02-18T10:42:18.930Z"
   },
   {
    "duration": 2029,
    "start_time": "2023-02-18T10:42:18.945Z"
   },
   {
    "duration": 73,
    "start_time": "2023-02-18T10:42:20.976Z"
   },
   {
    "duration": 30,
    "start_time": "2023-02-18T10:42:21.051Z"
   },
   {
    "duration": 5,
    "start_time": "2023-02-18T10:42:21.092Z"
   },
   {
    "duration": 192,
    "start_time": "2023-02-18T10:42:21.099Z"
   },
   {
    "duration": 16,
    "start_time": "2023-02-18T10:42:21.293Z"
   },
   {
    "duration": 54,
    "start_time": "2023-02-18T10:42:21.312Z"
   },
   {
    "duration": 314,
    "start_time": "2023-02-18T10:42:21.367Z"
   },
   {
    "duration": 160,
    "start_time": "2023-02-18T10:42:21.682Z"
   },
   {
    "duration": 162,
    "start_time": "2023-02-18T10:42:21.843Z"
   },
   {
    "duration": 152,
    "start_time": "2023-02-18T10:42:22.006Z"
   },
   {
    "duration": 208,
    "start_time": "2023-02-18T10:42:22.160Z"
   },
   {
    "duration": 148,
    "start_time": "2023-02-18T10:42:22.369Z"
   },
   {
    "duration": 146,
    "start_time": "2023-02-18T10:42:22.519Z"
   },
   {
    "duration": 136,
    "start_time": "2023-02-18T10:42:22.667Z"
   },
   {
    "duration": 131,
    "start_time": "2023-02-18T10:42:22.805Z"
   },
   {
    "duration": 157,
    "start_time": "2023-02-18T10:42:22.938Z"
   },
   {
    "duration": 138,
    "start_time": "2023-02-18T10:42:23.097Z"
   },
   {
    "duration": 145,
    "start_time": "2023-02-18T10:42:23.237Z"
   },
   {
    "duration": 155,
    "start_time": "2023-02-18T10:42:23.391Z"
   },
   {
    "duration": 150,
    "start_time": "2023-02-18T10:42:23.548Z"
   },
   {
    "duration": 160,
    "start_time": "2023-02-18T10:42:23.700Z"
   },
   {
    "duration": 146,
    "start_time": "2023-02-18T10:42:23.862Z"
   },
   {
    "duration": 1541,
    "start_time": "2023-02-18T10:42:24.010Z"
   },
   {
    "duration": 3,
    "start_time": "2023-02-18T10:42:25.553Z"
   },
   {
    "duration": 46,
    "start_time": "2023-02-18T10:42:25.558Z"
   },
   {
    "duration": 2,
    "start_time": "2023-02-18T10:42:25.606Z"
   },
   {
    "duration": 287,
    "start_time": "2023-02-18T10:42:25.610Z"
   },
   {
    "duration": 3,
    "start_time": "2023-02-18T10:42:25.899Z"
   },
   {
    "duration": 36,
    "start_time": "2023-02-18T10:42:29.740Z"
   },
   {
    "duration": 272,
    "start_time": "2023-02-18T10:49:53.473Z"
   },
   {
    "duration": 53,
    "start_time": "2023-02-18T12:07:39.740Z"
   },
   {
    "duration": 76,
    "start_time": "2023-02-18T12:09:11.771Z"
   },
   {
    "duration": 103,
    "start_time": "2023-02-18T12:21:42.299Z"
   },
   {
    "duration": 83,
    "start_time": "2023-02-18T12:22:06.796Z"
   },
   {
    "duration": 68,
    "start_time": "2023-02-18T12:22:18.579Z"
   },
   {
    "duration": 572,
    "start_time": "2023-02-18T12:22:23.615Z"
   },
   {
    "duration": 1081,
    "start_time": "2023-02-18T12:22:31.901Z"
   },
   {
    "duration": 13,
    "start_time": "2023-02-18T12:22:32.984Z"
   },
   {
    "duration": 2294,
    "start_time": "2023-02-18T12:22:32.998Z"
   },
   {
    "duration": 66,
    "start_time": "2023-02-18T12:22:35.294Z"
   },
   {
    "duration": 23,
    "start_time": "2023-02-18T12:22:35.363Z"
   },
   {
    "duration": 4,
    "start_time": "2023-02-18T12:22:35.387Z"
   },
   {
    "duration": 202,
    "start_time": "2023-02-18T12:22:35.393Z"
   },
   {
    "duration": 13,
    "start_time": "2023-02-18T12:22:35.596Z"
   },
   {
    "duration": 61,
    "start_time": "2023-02-18T12:22:35.611Z"
   },
   {
    "duration": 312,
    "start_time": "2023-02-18T12:22:35.674Z"
   },
   {
    "duration": 132,
    "start_time": "2023-02-18T12:22:35.988Z"
   },
   {
    "duration": 130,
    "start_time": "2023-02-18T12:22:36.121Z"
   },
   {
    "duration": 152,
    "start_time": "2023-02-18T12:22:36.253Z"
   },
   {
    "duration": 228,
    "start_time": "2023-02-18T12:22:36.408Z"
   },
   {
    "duration": 194,
    "start_time": "2023-02-18T12:22:36.637Z"
   },
   {
    "duration": 204,
    "start_time": "2023-02-18T12:22:36.834Z"
   },
   {
    "duration": 157,
    "start_time": "2023-02-18T12:22:37.040Z"
   },
   {
    "duration": 143,
    "start_time": "2023-02-18T12:22:37.198Z"
   },
   {
    "duration": 160,
    "start_time": "2023-02-18T12:22:37.343Z"
   },
   {
    "duration": 157,
    "start_time": "2023-02-18T12:22:37.505Z"
   },
   {
    "duration": 136,
    "start_time": "2023-02-18T12:22:37.666Z"
   },
   {
    "duration": 140,
    "start_time": "2023-02-18T12:22:37.803Z"
   },
   {
    "duration": 132,
    "start_time": "2023-02-18T12:22:37.945Z"
   },
   {
    "duration": 138,
    "start_time": "2023-02-18T12:22:38.079Z"
   },
   {
    "duration": 194,
    "start_time": "2023-02-18T12:22:38.219Z"
   },
   {
    "duration": 1508,
    "start_time": "2023-02-18T12:22:38.415Z"
   },
   {
    "duration": 3,
    "start_time": "2023-02-18T12:22:39.925Z"
   },
   {
    "duration": 63,
    "start_time": "2023-02-18T12:22:39.929Z"
   },
   {
    "duration": 3,
    "start_time": "2023-02-18T12:22:39.994Z"
   },
   {
    "duration": 280,
    "start_time": "2023-02-18T12:22:39.999Z"
   },
   {
    "duration": 2,
    "start_time": "2023-02-18T12:22:40.281Z"
   },
   {
    "duration": 85,
    "start_time": "2023-02-18T12:23:30.450Z"
   },
   {
    "duration": 1840,
    "start_time": "2023-02-18T12:23:39.262Z"
   },
   {
    "duration": 570,
    "start_time": "2023-02-18T12:24:02.641Z"
   },
   {
    "duration": 21,
    "start_time": "2023-02-18T12:24:03.213Z"
   },
   {
    "duration": 2345,
    "start_time": "2023-02-18T12:24:03.235Z"
   },
   {
    "duration": 119,
    "start_time": "2023-02-18T12:24:05.584Z"
   },
   {
    "duration": 37,
    "start_time": "2023-02-18T12:24:05.707Z"
   },
   {
    "duration": 18,
    "start_time": "2023-02-18T12:24:05.746Z"
   },
   {
    "duration": 246,
    "start_time": "2023-02-18T12:24:05.766Z"
   },
   {
    "duration": 13,
    "start_time": "2023-02-18T12:24:06.014Z"
   },
   {
    "duration": 67,
    "start_time": "2023-02-18T12:24:06.028Z"
   },
   {
    "duration": 383,
    "start_time": "2023-02-18T12:24:06.097Z"
   },
   {
    "duration": 139,
    "start_time": "2023-02-18T12:24:06.482Z"
   },
   {
    "duration": 155,
    "start_time": "2023-02-18T12:24:06.622Z"
   },
   {
    "duration": 243,
    "start_time": "2023-02-18T12:24:06.783Z"
   },
   {
    "duration": 159,
    "start_time": "2023-02-18T12:24:07.030Z"
   },
   {
    "duration": 153,
    "start_time": "2023-02-18T12:24:07.190Z"
   },
   {
    "duration": 163,
    "start_time": "2023-02-18T12:24:07.344Z"
   },
   {
    "duration": 127,
    "start_time": "2023-02-18T12:24:07.508Z"
   },
   {
    "duration": 143,
    "start_time": "2023-02-18T12:24:07.636Z"
   },
   {
    "duration": 143,
    "start_time": "2023-02-18T12:24:07.782Z"
   },
   {
    "duration": 131,
    "start_time": "2023-02-18T12:24:07.926Z"
   },
   {
    "duration": 147,
    "start_time": "2023-02-18T12:24:08.059Z"
   },
   {
    "duration": 146,
    "start_time": "2023-02-18T12:24:08.207Z"
   },
   {
    "duration": 161,
    "start_time": "2023-02-18T12:24:08.355Z"
   },
   {
    "duration": 207,
    "start_time": "2023-02-18T12:24:08.518Z"
   },
   {
    "duration": 129,
    "start_time": "2023-02-18T12:24:08.728Z"
   },
   {
    "duration": 1512,
    "start_time": "2023-02-18T12:24:08.858Z"
   },
   {
    "duration": 7,
    "start_time": "2023-02-18T12:24:10.376Z"
   },
   {
    "duration": 32,
    "start_time": "2023-02-18T12:24:10.385Z"
   },
   {
    "duration": 2,
    "start_time": "2023-02-18T12:24:10.419Z"
   },
   {
    "duration": 297,
    "start_time": "2023-02-18T12:24:10.423Z"
   },
   {
    "duration": 2,
    "start_time": "2023-02-18T12:24:10.722Z"
   },
   {
    "duration": 1371,
    "start_time": "2023-02-18T12:24:59.446Z"
   },
   {
    "duration": 113,
    "start_time": "2023-02-18T12:29:10.717Z"
   },
   {
    "duration": 138,
    "start_time": "2023-02-18T12:29:22.229Z"
   },
   {
    "duration": 148,
    "start_time": "2023-02-18T12:29:35.246Z"
   },
   {
    "duration": 202,
    "start_time": "2023-02-18T12:30:21.990Z"
   },
   {
    "duration": 119,
    "start_time": "2023-02-18T12:30:27.595Z"
   },
   {
    "duration": 129,
    "start_time": "2023-02-18T12:30:31.567Z"
   },
   {
    "duration": 118,
    "start_time": "2023-02-18T12:30:40.548Z"
   },
   {
    "duration": 179,
    "start_time": "2023-02-18T12:30:46.257Z"
   },
   {
    "duration": 179,
    "start_time": "2023-02-18T12:30:59.069Z"
   },
   {
    "duration": 183,
    "start_time": "2023-02-18T12:31:05.338Z"
   },
   {
    "duration": 174,
    "start_time": "2023-02-18T12:31:07.558Z"
   },
   {
    "duration": 137,
    "start_time": "2023-02-18T12:31:12.120Z"
   },
   {
    "duration": 188,
    "start_time": "2023-02-18T12:31:50.653Z"
   },
   {
    "duration": 134,
    "start_time": "2023-02-18T12:31:58.569Z"
   },
   {
    "duration": 115,
    "start_time": "2023-02-18T12:34:49.412Z"
   },
   {
    "duration": 132,
    "start_time": "2023-02-18T12:35:11.762Z"
   },
   {
    "duration": 347,
    "start_time": "2023-02-18T12:35:17.730Z"
   },
   {
    "duration": 138,
    "start_time": "2023-02-18T12:35:48.791Z"
   },
   {
    "duration": 28,
    "start_time": "2023-02-18T12:36:50.430Z"
   },
   {
    "duration": 24,
    "start_time": "2023-02-18T12:37:01.212Z"
   },
   {
    "duration": 23,
    "start_time": "2023-02-18T12:37:13.213Z"
   },
   {
    "duration": 57,
    "start_time": "2023-02-18T12:37:32.317Z"
   },
   {
    "duration": 23,
    "start_time": "2023-02-18T12:38:54.121Z"
   },
   {
    "duration": 22,
    "start_time": "2023-02-18T12:38:59.371Z"
   },
   {
    "duration": 8,
    "start_time": "2023-02-18T12:39:49.379Z"
   },
   {
    "duration": 187,
    "start_time": "2023-02-18T12:40:59.621Z"
   },
   {
    "duration": 1208,
    "start_time": "2023-02-18T12:41:32.130Z"
   },
   {
    "duration": 17,
    "start_time": "2023-02-18T12:42:21.690Z"
   },
   {
    "duration": 187,
    "start_time": "2023-02-18T12:43:34.230Z"
   },
   {
    "duration": 164,
    "start_time": "2023-02-18T12:44:07.529Z"
   },
   {
    "duration": 150,
    "start_time": "2023-02-18T12:44:14.172Z"
   },
   {
    "duration": 155,
    "start_time": "2023-02-18T12:44:36.570Z"
   },
   {
    "duration": 9,
    "start_time": "2023-02-18T12:46:47.700Z"
   },
   {
    "duration": 169,
    "start_time": "2023-02-18T12:46:51.031Z"
   },
   {
    "duration": 182,
    "start_time": "2023-02-18T12:48:28.600Z"
   },
   {
    "duration": 6,
    "start_time": "2023-02-18T12:49:26.991Z"
   },
   {
    "duration": 8,
    "start_time": "2023-02-18T12:49:50.798Z"
   },
   {
    "duration": 9,
    "start_time": "2023-02-18T12:50:13.722Z"
   },
   {
    "duration": 82,
    "start_time": "2023-02-18T13:00:00.920Z"
   },
   {
    "duration": 138,
    "start_time": "2023-02-18T13:04:51.597Z"
   },
   {
    "duration": 1642,
    "start_time": "2023-02-18T13:07:51.872Z"
   },
   {
    "duration": 1624,
    "start_time": "2023-02-18T13:08:35.332Z"
   },
   {
    "duration": 566,
    "start_time": "2023-02-18T13:09:10.673Z"
   },
   {
    "duration": 13,
    "start_time": "2023-02-18T13:09:11.241Z"
   },
   {
    "duration": 2204,
    "start_time": "2023-02-18T13:09:11.256Z"
   },
   {
    "duration": 57,
    "start_time": "2023-02-18T13:09:13.462Z"
   },
   {
    "duration": 80,
    "start_time": "2023-02-18T13:09:13.521Z"
   },
   {
    "duration": 26,
    "start_time": "2023-02-18T13:09:13.603Z"
   },
   {
    "duration": 4,
    "start_time": "2023-02-18T13:09:13.631Z"
   },
   {
    "duration": 235,
    "start_time": "2023-02-18T13:09:13.637Z"
   },
   {
    "duration": 12,
    "start_time": "2023-02-18T13:09:13.874Z"
   },
   {
    "duration": 49,
    "start_time": "2023-02-18T13:09:13.887Z"
   },
   {
    "duration": 332,
    "start_time": "2023-02-18T13:09:13.938Z"
   },
   {
    "duration": 147,
    "start_time": "2023-02-18T13:09:14.272Z"
   },
   {
    "duration": 161,
    "start_time": "2023-02-18T13:09:14.421Z"
   },
   {
    "duration": 240,
    "start_time": "2023-02-18T13:09:14.585Z"
   },
   {
    "duration": 207,
    "start_time": "2023-02-18T13:09:14.828Z"
   },
   {
    "duration": 148,
    "start_time": "2023-02-18T13:09:15.036Z"
   },
   {
    "duration": 143,
    "start_time": "2023-02-18T13:09:15.185Z"
   },
   {
    "duration": 144,
    "start_time": "2023-02-18T13:09:15.330Z"
   },
   {
    "duration": 145,
    "start_time": "2023-02-18T13:09:15.476Z"
   },
   {
    "duration": 137,
    "start_time": "2023-02-18T13:09:15.622Z"
   },
   {
    "duration": 135,
    "start_time": "2023-02-18T13:09:15.760Z"
   },
   {
    "duration": 122,
    "start_time": "2023-02-18T13:09:15.897Z"
   },
   {
    "duration": 140,
    "start_time": "2023-02-18T13:09:16.021Z"
   },
   {
    "duration": 137,
    "start_time": "2023-02-18T13:09:16.163Z"
   },
   {
    "duration": 194,
    "start_time": "2023-02-18T13:09:16.302Z"
   },
   {
    "duration": 135,
    "start_time": "2023-02-18T13:09:16.498Z"
   },
   {
    "duration": 1608,
    "start_time": "2023-02-18T13:09:16.634Z"
   },
   {
    "duration": 0,
    "start_time": "2023-02-18T13:09:18.244Z"
   },
   {
    "duration": 0,
    "start_time": "2023-02-18T13:09:18.245Z"
   },
   {
    "duration": 0,
    "start_time": "2023-02-18T13:09:18.246Z"
   },
   {
    "duration": 1,
    "start_time": "2023-02-18T13:09:18.246Z"
   },
   {
    "duration": 0,
    "start_time": "2023-02-18T13:09:18.248Z"
   },
   {
    "duration": 1520,
    "start_time": "2023-02-18T13:09:45.422Z"
   },
   {
    "duration": 1626,
    "start_time": "2023-02-18T13:09:49.881Z"
   },
   {
    "duration": 1523,
    "start_time": "2023-02-18T13:10:40.981Z"
   },
   {
    "duration": 1477,
    "start_time": "2023-02-18T13:10:49.865Z"
   },
   {
    "duration": 9,
    "start_time": "2023-02-18T13:13:26.412Z"
   },
   {
    "duration": 428,
    "start_time": "2023-02-18T13:13:53.034Z"
   },
   {
    "duration": 151,
    "start_time": "2023-02-18T13:14:14.318Z"
   },
   {
    "duration": 177,
    "start_time": "2023-02-18T13:14:46.002Z"
   },
   {
    "duration": 149,
    "start_time": "2023-02-18T13:14:51.772Z"
   },
   {
    "duration": 160,
    "start_time": "2023-02-18T13:15:06.463Z"
   },
   {
    "duration": 10,
    "start_time": "2023-02-18T13:24:00.701Z"
   },
   {
    "duration": 9,
    "start_time": "2023-02-18T13:24:19.458Z"
   },
   {
    "duration": 129,
    "start_time": "2023-02-18T13:24:53.421Z"
   },
   {
    "duration": 405,
    "start_time": "2023-02-18T13:36:57.883Z"
   },
   {
    "duration": 331,
    "start_time": "2023-02-18T13:37:13.803Z"
   },
   {
    "duration": 6,
    "start_time": "2023-02-18T13:37:27.771Z"
   },
   {
    "duration": 5,
    "start_time": "2023-02-18T13:38:37.483Z"
   },
   {
    "duration": 351,
    "start_time": "2023-02-18T13:38:53.256Z"
   },
   {
    "duration": 422,
    "start_time": "2023-02-18T13:39:01.052Z"
   },
   {
    "duration": 334,
    "start_time": "2023-02-18T13:45:27.638Z"
   },
   {
    "duration": 6,
    "start_time": "2023-02-18T13:45:29.235Z"
   },
   {
    "duration": 462,
    "start_time": "2023-02-18T13:45:40.277Z"
   },
   {
    "duration": 7,
    "start_time": "2023-02-18T13:45:41.830Z"
   },
   {
    "duration": 314,
    "start_time": "2023-02-18T13:46:52.621Z"
   },
   {
    "duration": 5,
    "start_time": "2023-02-18T13:46:53.922Z"
   },
   {
    "duration": 460,
    "start_time": "2023-02-18T13:48:23.736Z"
   },
   {
    "duration": 7,
    "start_time": "2023-02-18T13:48:25.001Z"
   },
   {
    "duration": 3,
    "start_time": "2023-02-18T13:52:50.237Z"
   },
   {
    "duration": 73,
    "start_time": "2023-02-18T13:53:29.932Z"
   },
   {
    "duration": 71,
    "start_time": "2023-02-18T13:53:31.872Z"
   },
   {
    "duration": 93,
    "start_time": "2023-02-18T13:53:37.771Z"
   },
   {
    "duration": 94,
    "start_time": "2023-02-18T13:55:22.481Z"
   },
   {
    "duration": 83,
    "start_time": "2023-02-18T13:55:26.851Z"
   },
   {
    "duration": 63,
    "start_time": "2023-02-18T13:56:29.833Z"
   },
   {
    "duration": 77,
    "start_time": "2023-02-18T13:57:40.970Z"
   },
   {
    "duration": 100,
    "start_time": "2023-02-18T13:58:12.119Z"
   },
   {
    "duration": 159,
    "start_time": "2023-02-18T14:09:33.840Z"
   },
   {
    "duration": 169,
    "start_time": "2023-02-18T14:10:37.891Z"
   },
   {
    "duration": 1572,
    "start_time": "2023-02-18T14:10:48.920Z"
   },
   {
    "duration": 1657,
    "start_time": "2023-02-18T14:21:17.882Z"
   },
   {
    "duration": 1662,
    "start_time": "2023-02-18T14:21:25.735Z"
   },
   {
    "duration": 14,
    "start_time": "2023-02-18T14:22:21.484Z"
   },
   {
    "duration": 247,
    "start_time": "2023-02-18T14:25:41.317Z"
   },
   {
    "duration": 248,
    "start_time": "2023-02-18T14:26:11.520Z"
   },
   {
    "duration": 17698,
    "start_time": "2023-02-18T14:27:45.771Z"
   },
   {
    "duration": 459,
    "start_time": "2023-02-18T14:29:10.519Z"
   },
   {
    "duration": 15,
    "start_time": "2023-02-18T14:29:10.980Z"
   },
   {
    "duration": 2059,
    "start_time": "2023-02-18T14:29:10.997Z"
   },
   {
    "duration": 48,
    "start_time": "2023-02-18T14:29:13.058Z"
   },
   {
    "duration": 70,
    "start_time": "2023-02-18T14:29:13.108Z"
   },
   {
    "duration": 22,
    "start_time": "2023-02-18T14:29:13.180Z"
   },
   {
    "duration": 22,
    "start_time": "2023-02-18T14:29:13.204Z"
   },
   {
    "duration": 214,
    "start_time": "2023-02-18T14:29:13.227Z"
   },
   {
    "duration": 11,
    "start_time": "2023-02-18T14:29:13.443Z"
   },
   {
    "duration": 51,
    "start_time": "2023-02-18T14:29:13.466Z"
   },
   {
    "duration": 291,
    "start_time": "2023-02-18T14:29:13.519Z"
   },
   {
    "duration": 5,
    "start_time": "2023-02-18T14:29:13.812Z"
   },
   {
    "duration": 168,
    "start_time": "2023-02-18T14:29:13.819Z"
   },
   {
    "duration": 130,
    "start_time": "2023-02-18T14:29:13.990Z"
   },
   {
    "duration": 216,
    "start_time": "2023-02-18T14:29:14.122Z"
   },
   {
    "duration": 127,
    "start_time": "2023-02-18T14:29:14.340Z"
   },
   {
    "duration": 134,
    "start_time": "2023-02-18T14:29:14.468Z"
   },
   {
    "duration": 137,
    "start_time": "2023-02-18T14:29:14.603Z"
   },
   {
    "duration": 156,
    "start_time": "2023-02-18T14:29:14.742Z"
   },
   {
    "duration": 161,
    "start_time": "2023-02-18T14:29:14.900Z"
   },
   {
    "duration": 142,
    "start_time": "2023-02-18T14:29:15.066Z"
   },
   {
    "duration": 127,
    "start_time": "2023-02-18T14:29:15.210Z"
   },
   {
    "duration": 129,
    "start_time": "2023-02-18T14:29:15.339Z"
   },
   {
    "duration": 141,
    "start_time": "2023-02-18T14:29:15.470Z"
   },
   {
    "duration": 134,
    "start_time": "2023-02-18T14:29:15.612Z"
   },
   {
    "duration": 193,
    "start_time": "2023-02-18T14:29:15.748Z"
   },
   {
    "duration": 125,
    "start_time": "2023-02-18T14:29:15.943Z"
   },
   {
    "duration": 9,
    "start_time": "2023-02-18T14:29:16.070Z"
   },
   {
    "duration": 1480,
    "start_time": "2023-02-18T14:29:16.081Z"
   },
   {
    "duration": 160,
    "start_time": "2023-02-18T14:29:17.563Z"
   },
   {
    "duration": 25,
    "start_time": "2023-02-18T14:29:17.725Z"
   },
   {
    "duration": 260,
    "start_time": "2023-02-18T14:29:17.751Z"
   },
   {
    "duration": 17438,
    "start_time": "2023-02-18T14:29:18.013Z"
   },
   {
    "duration": 276,
    "start_time": "2023-02-18T14:33:58.644Z"
   },
   {
    "duration": 108,
    "start_time": "2023-02-18T14:57:26.948Z"
   },
   {
    "duration": 71,
    "start_time": "2023-02-18T14:58:20.782Z"
   },
   {
    "duration": 69,
    "start_time": "2023-02-18T14:58:24.797Z"
   },
   {
    "duration": 83,
    "start_time": "2023-02-18T14:59:33.637Z"
   },
   {
    "duration": 12,
    "start_time": "2023-02-18T15:00:33.507Z"
   },
   {
    "duration": 506,
    "start_time": "2023-02-18T15:01:04.870Z"
   },
   {
    "duration": 362,
    "start_time": "2023-02-18T15:01:19.108Z"
   },
   {
    "duration": 155,
    "start_time": "2023-02-18T15:01:25.747Z"
   },
   {
    "duration": 578,
    "start_time": "2023-02-18T15:01:39.341Z"
   },
   {
    "duration": 17,
    "start_time": "2023-02-18T15:01:39.921Z"
   },
   {
    "duration": 2192,
    "start_time": "2023-02-18T15:01:39.940Z"
   },
   {
    "duration": 47,
    "start_time": "2023-02-18T15:01:42.134Z"
   },
   {
    "duration": 60,
    "start_time": "2023-02-18T15:01:42.182Z"
   },
   {
    "duration": 30,
    "start_time": "2023-02-18T15:01:42.243Z"
   },
   {
    "duration": 4,
    "start_time": "2023-02-18T15:01:42.274Z"
   },
   {
    "duration": 191,
    "start_time": "2023-02-18T15:01:42.279Z"
   },
   {
    "duration": 13,
    "start_time": "2023-02-18T15:01:42.471Z"
   },
   {
    "duration": 59,
    "start_time": "2023-02-18T15:01:42.486Z"
   },
   {
    "duration": 282,
    "start_time": "2023-02-18T15:01:42.547Z"
   },
   {
    "duration": 5,
    "start_time": "2023-02-18T15:01:42.831Z"
   },
   {
    "duration": 153,
    "start_time": "2023-02-18T15:01:42.838Z"
   },
   {
    "duration": 137,
    "start_time": "2023-02-18T15:01:42.993Z"
   },
   {
    "duration": 216,
    "start_time": "2023-02-18T15:01:43.131Z"
   },
   {
    "duration": 136,
    "start_time": "2023-02-18T15:01:43.349Z"
   },
   {
    "duration": 150,
    "start_time": "2023-02-18T15:01:43.487Z"
   },
   {
    "duration": 153,
    "start_time": "2023-02-18T15:01:43.639Z"
   },
   {
    "duration": 136,
    "start_time": "2023-02-18T15:01:43.794Z"
   },
   {
    "duration": 121,
    "start_time": "2023-02-18T15:01:43.932Z"
   },
   {
    "duration": 157,
    "start_time": "2023-02-18T15:01:44.055Z"
   },
   {
    "duration": 123,
    "start_time": "2023-02-18T15:01:44.214Z"
   },
   {
    "duration": 133,
    "start_time": "2023-02-18T15:01:44.339Z"
   },
   {
    "duration": 142,
    "start_time": "2023-02-18T15:01:44.473Z"
   },
   {
    "duration": 135,
    "start_time": "2023-02-18T15:01:44.616Z"
   },
   {
    "duration": 217,
    "start_time": "2023-02-18T15:01:44.752Z"
   },
   {
    "duration": 198,
    "start_time": "2023-02-18T15:01:44.971Z"
   },
   {
    "duration": 11,
    "start_time": "2023-02-18T15:01:45.173Z"
   },
   {
    "duration": 1501,
    "start_time": "2023-02-18T15:01:45.186Z"
   },
   {
    "duration": 187,
    "start_time": "2023-02-18T15:01:46.688Z"
   },
   {
    "duration": 429,
    "start_time": "2023-02-18T15:01:46.877Z"
   },
   {
    "duration": 0,
    "start_time": "2023-02-18T15:01:47.307Z"
   },
   {
    "duration": 0,
    "start_time": "2023-02-18T15:01:47.308Z"
   },
   {
    "duration": 0,
    "start_time": "2023-02-18T15:01:47.309Z"
   },
   {
    "duration": 12,
    "start_time": "2023-02-18T15:02:29.667Z"
   },
   {
    "duration": 10,
    "start_time": "2023-02-18T15:03:27.388Z"
   },
   {
    "duration": 30,
    "start_time": "2023-02-18T15:03:40.379Z"
   },
   {
    "duration": 14,
    "start_time": "2023-02-18T15:04:11.968Z"
   },
   {
    "duration": 489,
    "start_time": "2023-02-18T23:49:57.308Z"
   },
   {
    "duration": 16,
    "start_time": "2023-02-18T23:49:57.799Z"
   },
   {
    "duration": 2135,
    "start_time": "2023-02-18T23:49:57.816Z"
   },
   {
    "duration": 59,
    "start_time": "2023-02-18T23:49:59.953Z"
   },
   {
    "duration": 78,
    "start_time": "2023-02-18T23:50:00.014Z"
   },
   {
    "duration": 25,
    "start_time": "2023-02-18T23:50:00.093Z"
   },
   {
    "duration": 4,
    "start_time": "2023-02-18T23:50:00.120Z"
   },
   {
    "duration": 213,
    "start_time": "2023-02-18T23:50:00.126Z"
   },
   {
    "duration": 14,
    "start_time": "2023-02-18T23:50:00.341Z"
   },
   {
    "duration": 65,
    "start_time": "2023-02-18T23:50:00.357Z"
   },
   {
    "duration": 319,
    "start_time": "2023-02-18T23:50:00.424Z"
   },
   {
    "duration": 5,
    "start_time": "2023-02-18T23:50:00.744Z"
   },
   {
    "duration": 166,
    "start_time": "2023-02-18T23:50:00.750Z"
   },
   {
    "duration": 151,
    "start_time": "2023-02-18T23:50:00.918Z"
   },
   {
    "duration": 268,
    "start_time": "2023-02-18T23:50:01.071Z"
   },
   {
    "duration": 156,
    "start_time": "2023-02-18T23:50:01.341Z"
   },
   {
    "duration": 170,
    "start_time": "2023-02-18T23:50:01.498Z"
   },
   {
    "duration": 161,
    "start_time": "2023-02-18T23:50:01.669Z"
   },
   {
    "duration": 140,
    "start_time": "2023-02-18T23:50:01.831Z"
   },
   {
    "duration": 137,
    "start_time": "2023-02-18T23:50:01.972Z"
   },
   {
    "duration": 158,
    "start_time": "2023-02-18T23:50:02.111Z"
   },
   {
    "duration": 150,
    "start_time": "2023-02-18T23:50:02.271Z"
   },
   {
    "duration": 142,
    "start_time": "2023-02-18T23:50:02.423Z"
   },
   {
    "duration": 150,
    "start_time": "2023-02-18T23:50:02.567Z"
   },
   {
    "duration": 146,
    "start_time": "2023-02-18T23:50:02.719Z"
   },
   {
    "duration": 212,
    "start_time": "2023-02-18T23:50:02.867Z"
   },
   {
    "duration": 146,
    "start_time": "2023-02-18T23:50:03.081Z"
   },
   {
    "duration": 11,
    "start_time": "2023-02-18T23:50:03.231Z"
   },
   {
    "duration": 1622,
    "start_time": "2023-02-18T23:50:03.244Z"
   },
   {
    "duration": 185,
    "start_time": "2023-02-18T23:50:04.867Z"
   },
   {
    "duration": 13,
    "start_time": "2023-02-18T23:50:05.054Z"
   },
   {
    "duration": 42,
    "start_time": "2023-02-18T23:50:05.069Z"
   },
   {
    "duration": 322,
    "start_time": "2023-02-18T23:50:05.113Z"
   },
   {
    "duration": 283,
    "start_time": "2023-02-18T23:50:05.437Z"
   },
   {
    "duration": 46,
    "start_time": "2023-05-23T14:21:38.448Z"
   },
   {
    "duration": 583,
    "start_time": "2023-05-23T14:21:46.963Z"
   },
   {
    "duration": 15,
    "start_time": "2023-05-23T14:21:47.548Z"
   },
   {
    "duration": 2464,
    "start_time": "2023-05-23T14:21:47.565Z"
   },
   {
    "duration": 118,
    "start_time": "2023-05-23T14:21:50.031Z"
   },
   {
    "duration": 179,
    "start_time": "2023-05-23T14:21:50.151Z"
   },
   {
    "duration": 82,
    "start_time": "2023-05-23T14:21:50.332Z"
   },
   {
    "duration": 5,
    "start_time": "2023-05-23T14:21:50.416Z"
   },
   {
    "duration": 548,
    "start_time": "2023-05-23T14:21:50.423Z"
   },
   {
    "duration": 44,
    "start_time": "2023-05-23T14:21:50.973Z"
   },
   {
    "duration": 52,
    "start_time": "2023-05-23T14:21:51.020Z"
   },
   {
    "duration": 291,
    "start_time": "2023-05-23T14:21:51.074Z"
   },
   {
    "duration": 5,
    "start_time": "2023-05-23T14:21:51.366Z"
   },
   {
    "duration": 134,
    "start_time": "2023-05-23T14:21:51.373Z"
   },
   {
    "duration": 125,
    "start_time": "2023-05-23T14:21:51.509Z"
   },
   {
    "duration": 215,
    "start_time": "2023-05-23T14:21:51.635Z"
   },
   {
    "duration": 126,
    "start_time": "2023-05-23T14:21:51.852Z"
   },
   {
    "duration": 136,
    "start_time": "2023-05-23T14:21:51.979Z"
   },
   {
    "duration": 137,
    "start_time": "2023-05-23T14:21:52.117Z"
   },
   {
    "duration": 112,
    "start_time": "2023-05-23T14:21:52.256Z"
   },
   {
    "duration": 147,
    "start_time": "2023-05-23T14:21:52.369Z"
   },
   {
    "duration": 185,
    "start_time": "2023-05-23T14:21:52.517Z"
   },
   {
    "duration": 126,
    "start_time": "2023-05-23T14:21:52.706Z"
   },
   {
    "duration": 115,
    "start_time": "2023-05-23T14:21:52.834Z"
   },
   {
    "duration": 128,
    "start_time": "2023-05-23T14:21:52.951Z"
   },
   {
    "duration": 127,
    "start_time": "2023-05-23T14:21:53.080Z"
   },
   {
    "duration": 180,
    "start_time": "2023-05-23T14:21:53.209Z"
   },
   {
    "duration": 141,
    "start_time": "2023-05-23T14:21:53.391Z"
   },
   {
    "duration": 8,
    "start_time": "2023-05-23T14:21:53.534Z"
   },
   {
    "duration": 1434,
    "start_time": "2023-05-23T14:21:53.544Z"
   },
   {
    "duration": 171,
    "start_time": "2023-05-23T14:21:54.979Z"
   },
   {
    "duration": 13,
    "start_time": "2023-05-23T14:21:55.152Z"
   },
   {
    "duration": 47,
    "start_time": "2023-05-23T14:21:55.167Z"
   },
   {
    "duration": 270,
    "start_time": "2023-05-23T14:21:55.215Z"
   },
   {
    "duration": 258,
    "start_time": "2023-05-23T14:21:55.487Z"
   },
   {
    "duration": 77,
    "start_time": "2023-05-23T14:27:38.147Z"
   },
   {
    "duration": 78,
    "start_time": "2023-05-23T14:28:05.611Z"
   },
   {
    "duration": 633,
    "start_time": "2023-05-23T14:28:30.281Z"
   },
   {
    "duration": 88,
    "start_time": "2023-05-23T14:28:30.916Z"
   },
   {
    "duration": 23,
    "start_time": "2023-05-23T14:28:31.006Z"
   },
   {
    "duration": 57,
    "start_time": "2023-05-23T14:28:31.031Z"
   },
   {
    "duration": 1912,
    "start_time": "2023-05-23T14:28:31.090Z"
   },
   {
    "duration": 52,
    "start_time": "2023-05-23T14:28:33.004Z"
   },
   {
    "duration": 71,
    "start_time": "2023-05-23T14:28:33.058Z"
   },
   {
    "duration": 21,
    "start_time": "2023-05-23T14:28:33.131Z"
   },
   {
    "duration": 4,
    "start_time": "2023-05-23T14:28:33.154Z"
   },
   {
    "duration": 186,
    "start_time": "2023-05-23T14:28:33.161Z"
   },
   {
    "duration": 14,
    "start_time": "2023-05-23T14:28:33.349Z"
   },
   {
    "duration": 65,
    "start_time": "2023-05-23T14:28:33.365Z"
   },
   {
    "duration": 291,
    "start_time": "2023-05-23T14:28:33.432Z"
   },
   {
    "duration": 5,
    "start_time": "2023-05-23T14:28:33.724Z"
   },
   {
    "duration": 148,
    "start_time": "2023-05-23T14:28:33.731Z"
   },
   {
    "duration": 172,
    "start_time": "2023-05-23T14:28:33.881Z"
   },
   {
    "duration": 246,
    "start_time": "2023-05-23T14:28:34.055Z"
   },
   {
    "duration": 129,
    "start_time": "2023-05-23T14:28:34.303Z"
   },
   {
    "duration": 146,
    "start_time": "2023-05-23T14:28:34.433Z"
   },
   {
    "duration": 148,
    "start_time": "2023-05-23T14:28:34.581Z"
   },
   {
    "duration": 118,
    "start_time": "2023-05-23T14:28:34.730Z"
   },
   {
    "duration": 121,
    "start_time": "2023-05-23T14:28:34.849Z"
   },
   {
    "duration": 131,
    "start_time": "2023-05-23T14:28:34.971Z"
   },
   {
    "duration": 129,
    "start_time": "2023-05-23T14:28:35.105Z"
   },
   {
    "duration": 125,
    "start_time": "2023-05-23T14:28:35.235Z"
   },
   {
    "duration": 144,
    "start_time": "2023-05-23T14:28:35.362Z"
   },
   {
    "duration": 122,
    "start_time": "2023-05-23T14:28:35.508Z"
   },
   {
    "duration": 199,
    "start_time": "2023-05-23T14:28:35.633Z"
   },
   {
    "duration": 141,
    "start_time": "2023-05-23T14:28:35.834Z"
   },
   {
    "duration": 9,
    "start_time": "2023-05-23T14:28:35.976Z"
   },
   {
    "duration": 1466,
    "start_time": "2023-05-23T14:28:35.986Z"
   },
   {
    "duration": 158,
    "start_time": "2023-05-23T14:28:37.454Z"
   },
   {
    "duration": 12,
    "start_time": "2023-05-23T14:28:37.613Z"
   },
   {
    "duration": 26,
    "start_time": "2023-05-23T14:28:37.626Z"
   },
   {
    "duration": 269,
    "start_time": "2023-05-23T14:28:37.654Z"
   },
   {
    "duration": 259,
    "start_time": "2023-05-23T14:28:37.924Z"
   },
   {
    "duration": 183,
    "start_time": "2023-05-23T14:32:13.976Z"
   },
   {
    "duration": 146,
    "start_time": "2023-05-23T14:32:43.875Z"
   },
   {
    "duration": 239,
    "start_time": "2023-05-23T14:33:59.973Z"
   },
   {
    "duration": 1108,
    "start_time": "2023-05-23T14:36:03.447Z"
   },
   {
    "duration": 1945,
    "start_time": "2023-05-23T14:36:41.040Z"
   },
   {
    "duration": 273,
    "start_time": "2023-05-23T14:36:55.897Z"
   },
   {
    "duration": 62,
    "start_time": "2023-05-23T14:37:04.499Z"
   },
   {
    "duration": 1151,
    "start_time": "2023-05-23T14:37:10.887Z"
   },
   {
    "duration": 149,
    "start_time": "2023-05-23T14:37:42.555Z"
   },
   {
    "duration": 203,
    "start_time": "2023-05-23T14:37:52.053Z"
   },
   {
    "duration": 183,
    "start_time": "2023-05-23T14:38:50.407Z"
   },
   {
    "duration": 30,
    "start_time": "2023-05-23T14:40:55.391Z"
   },
   {
    "duration": 7,
    "start_time": "2023-05-23T14:41:09.681Z"
   },
   {
    "duration": 30,
    "start_time": "2023-05-23T14:41:16.245Z"
   },
   {
    "duration": 15900,
    "start_time": "2023-05-23T14:44:16.822Z"
   },
   {
    "duration": 17959,
    "start_time": "2023-05-23T14:45:15.406Z"
   },
   {
    "duration": 19331,
    "start_time": "2023-05-23T14:45:47.575Z"
   },
   {
    "duration": 478,
    "start_time": "2023-05-23T14:47:08.140Z"
   },
   {
    "duration": 616,
    "start_time": "2023-05-23T14:47:13.899Z"
   },
   {
    "duration": 1125,
    "start_time": "2023-05-23T14:47:18.776Z"
   },
   {
    "duration": 63,
    "start_time": "2023-05-23T14:47:21.317Z"
   },
   {
    "duration": 2718,
    "start_time": "2023-05-23T14:48:27.485Z"
   },
   {
    "duration": 293,
    "start_time": "2023-05-23T14:49:07.138Z"
   },
   {
    "duration": 1838,
    "start_time": "2023-05-23T14:49:13.412Z"
   },
   {
    "duration": 16,
    "start_time": "2023-05-23T14:55:42.108Z"
   }
  ],
  "celltoolbar": "Необработанный формат ячейки",
  "kernelspec": {
   "display_name": "Python 3 (ipykernel)",
   "language": "python",
   "name": "python3"
  },
  "language_info": {
   "codemirror_mode": {
    "name": "ipython",
    "version": 3
   },
   "file_extension": ".py",
   "mimetype": "text/x-python",
   "name": "python",
   "nbconvert_exporter": "python",
   "pygments_lexer": "ipython3",
   "version": "3.9.5"
  },
  "toc": {
   "base_numbering": 1,
   "nav_menu": {},
   "number_sections": true,
   "sideBar": true,
   "skip_h1_title": true,
   "title_cell": "Table of Contents",
   "title_sidebar": "Contents",
   "toc_cell": false,
   "toc_position": {
    "height": "calc(100% - 180px)",
    "left": "10px",
    "top": "150px",
    "width": "165px"
   },
   "toc_section_display": true,
   "toc_window_display": true
  }
 },
 "nbformat": 4,
 "nbformat_minor": 2
}
